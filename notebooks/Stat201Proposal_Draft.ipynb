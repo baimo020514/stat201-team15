{
 "cells": [
  {
   "cell_type": "markdown",
   "id": "18cab602",
   "metadata": {},
   "source": [
    "# Title"
   ]
  },
  {
   "cell_type": "markdown",
   "id": "674efcff",
   "metadata": {},
   "source": [
    "## 1. Introduction\n",
    "\n",
    "### Below are just instructions to be deleted after finish\n",
    "*Begin by providing some relevant background information on the topic so that someone unfamiliar with it will be prepared to understand the rest of your proposal.*\n",
    "\n",
    "*Clearly state the question you will try to answer with your project. Your question should involve one or more random variables of interest, spread across two or more categories that are interesting to compare. For example, you could consider the annual maxima river flow at two different locations along a river, or perhaps gender diversity at different universities. Of the response variable, identify one location parameter (mean, median, quantile, etc.) and one scale parameter (standard deviation, inter-quartile range, etc.) that would be useful in answering your question. Justify your choices.*\n",
    "\n",
    "*Identify and describe the dataset that will be used to answer the question. Remember, this dataset is allowed to contain more variables than you need – feel free to drop them!*\n",
    "\n",
    "*Also, be sure to frame your question/objectives in terms of what is already known in the literature. Be sure to include at least two scientific publications that can help frame your study (you will need to include these in the References section). We have no specific citation style requirements, but be consistent.*"
   ]
  },
  {
   "cell_type": "markdown",
   "id": "c3cc7cb4",
   "metadata": {},
   "source": [
    "### 1.1 Background information on the topic\n",
    "\n",
    "Text"
   ]
  },
  {
   "cell_type": "markdown",
   "id": "78294f2c",
   "metadata": {},
   "source": [
    "### 1.2 The Question \n",
    "\n",
    "Text"
   ]
  },
  {
   "cell_type": "markdown",
   "id": "050a522a",
   "metadata": {},
   "source": [
    "### 1.3 The Dataset\n",
    "\n",
    "Text"
   ]
  },
  {
   "cell_type": "markdown",
   "id": "fc17db32",
   "metadata": {},
   "source": [
    "### 1.4 The Literature \n",
    "\n",
    "Text"
   ]
  },
  {
   "cell_type": "markdown",
   "id": "ab5d8776",
   "metadata": {},
   "source": [
    "## 2. Preliminary Results"
   ]
  },
  {
   "cell_type": "markdown",
   "id": "d30e73cd",
   "metadata": {},
   "source": [
    "### 2.0 Libraries and Packages"
   ]
  },
  {
   "cell_type": "code",
   "execution_count": 2,
   "id": "2d53d3cc",
   "metadata": {},
   "outputs": [
    {
     "name": "stderr",
     "output_type": "stream",
     "text": [
      "-- \u001b[1mAttaching packages\u001b[22m ------------------------------------------------------------------------------- tidyverse 1.3.1 --\n",
      "\n",
      "\u001b[32mv\u001b[39m \u001b[34mggplot2\u001b[39m 3.3.5     \u001b[32mv\u001b[39m \u001b[34mpurrr  \u001b[39m 0.3.4\n",
      "\u001b[32mv\u001b[39m \u001b[34mtibble \u001b[39m 3.1.6     \u001b[32mv\u001b[39m \u001b[34mdplyr  \u001b[39m 1.0.7\n",
      "\u001b[32mv\u001b[39m \u001b[34mtidyr  \u001b[39m 1.1.4     \u001b[32mv\u001b[39m \u001b[34mstringr\u001b[39m 1.4.0\n",
      "\u001b[32mv\u001b[39m \u001b[34mreadr  \u001b[39m 2.1.1     \u001b[32mv\u001b[39m \u001b[34mforcats\u001b[39m 0.5.1\n",
      "\n",
      "-- \u001b[1mConflicts\u001b[22m ---------------------------------------------------------------------------------- tidyverse_conflicts() --\n",
      "\u001b[31mx\u001b[39m \u001b[34mdplyr\u001b[39m::\u001b[32mfilter()\u001b[39m masks \u001b[34mstats\u001b[39m::filter()\n",
      "\u001b[31mx\u001b[39m \u001b[34mdplyr\u001b[39m::\u001b[32mlag()\u001b[39m    masks \u001b[34mstats\u001b[39m::lag()\n",
      "\n",
      "\n",
      "Attaching package: 'dbplyr'\n",
      "\n",
      "\n",
      "The following objects are masked from 'package:dplyr':\n",
      "\n",
      "    ident, sql\n",
      "\n",
      "\n"
     ]
    }
   ],
   "source": [
    "library(tidyverse)\n",
    "library(readr)\n",
    "library(tidyr)\n",
    "library(dbplyr)"
   ]
  },
  {
   "cell_type": "markdown",
   "id": "9d204994",
   "metadata": {},
   "source": [
    "### 2.1 Read the data into R"
   ]
  },
  {
   "cell_type": "code",
   "execution_count": 23,
   "id": "589b743f",
   "metadata": {},
   "outputs": [
    {
     "name": "stderr",
     "output_type": "stream",
     "text": [
      "\u001b[1mRows: \u001b[22m\u001b[34m5320\u001b[39m \u001b[1mColumns: \u001b[22m\u001b[34m54\u001b[39m\n",
      "\n",
      "\u001b[36m--\u001b[39m \u001b[1mColumn specification\u001b[22m \u001b[36m------------------------------------------------------------------------------------------------\u001b[39m\n",
      "\u001b[1mDelimiter:\u001b[22m \",\"\n",
      "\u001b[31mchr\u001b[39m  (1): State\n",
      "\u001b[32mdbl\u001b[39m (53): Date, Cases_Total, Cases_White, Cases_Black, Cases_Latinx, Cases_A...\n",
      "\n",
      "\n",
      "\u001b[36mi\u001b[39m Use \u001b[30m\u001b[47m\u001b[30m\u001b[47m`spec()`\u001b[47m\u001b[30m\u001b[49m\u001b[39m to retrieve the full column specification for this data.\n",
      "\u001b[36mi\u001b[39m Specify the column types or set \u001b[30m\u001b[47m\u001b[30m\u001b[47m`show_col_types = FALSE`\u001b[47m\u001b[30m\u001b[49m\u001b[39m to quiet this message.\n",
      "\n"
     ]
    }
   ],
   "source": [
    "df <- read_csv(\"../data/crdt-data.csv\")"
   ]
  },
  {
   "cell_type": "code",
   "execution_count": 7,
   "id": "21647cf6",
   "metadata": {},
   "outputs": [
    {
     "data": {
      "text/html": [
       "<table class=\"dataframe\">\n",
       "<caption>A tibble: 6 × 54</caption>\n",
       "<thead>\n",
       "\t<tr><th scope=col>Date</th><th scope=col>State</th><th scope=col>Cases_Total</th><th scope=col>Cases_White</th><th scope=col>Cases_Black</th><th scope=col>Cases_Latinx</th><th scope=col>Cases_Asian</th><th scope=col>Cases_AIAN</th><th scope=col>Cases_NHPI</th><th scope=col>Cases_Multiracial</th><th scope=col>⋯</th><th scope=col>Tests_Latinx</th><th scope=col>Tests_Asian</th><th scope=col>Tests_AIAN</th><th scope=col>Tests_NHPI</th><th scope=col>Tests_Multiracial</th><th scope=col>Tests_Other</th><th scope=col>Tests_Unknown</th><th scope=col>Tests_Ethnicity_Hispanic</th><th scope=col>Tests_Ethnicity_NonHispanic</th><th scope=col>Tests_Ethnicity_Unknown</th></tr>\n",
       "\t<tr><th scope=col>&lt;dbl&gt;</th><th scope=col>&lt;chr&gt;</th><th scope=col>&lt;dbl&gt;</th><th scope=col>&lt;dbl&gt;</th><th scope=col>&lt;dbl&gt;</th><th scope=col>&lt;dbl&gt;</th><th scope=col>&lt;dbl&gt;</th><th scope=col>&lt;dbl&gt;</th><th scope=col>&lt;dbl&gt;</th><th scope=col>&lt;dbl&gt;</th><th scope=col>⋯</th><th scope=col>&lt;dbl&gt;</th><th scope=col>&lt;dbl&gt;</th><th scope=col>&lt;dbl&gt;</th><th scope=col>&lt;dbl&gt;</th><th scope=col>&lt;dbl&gt;</th><th scope=col>&lt;dbl&gt;</th><th scope=col>&lt;dbl&gt;</th><th scope=col>&lt;dbl&gt;</th><th scope=col>&lt;dbl&gt;</th><th scope=col>&lt;dbl&gt;</th></tr>\n",
       "</thead>\n",
       "<tbody>\n",
       "\t<tr><td>20210307</td><td>AK</td><td>  59332</td><td> 18300</td><td>  1499</td><td>     NA</td><td>  2447</td><td>12238</td><td> 1508</td><td> 4453</td><td>⋯</td><td>     NA</td><td>     NA</td><td>   NA</td><td>    NA</td><td>   NA</td><td>     NA</td><td>      NA</td><td>     NA</td><td>      NA</td><td>      NA</td></tr>\n",
       "\t<tr><td>20210307</td><td>AL</td><td> 499819</td><td>160347</td><td> 82790</td><td>     NA</td><td>  2273</td><td>   NA</td><td>   NA</td><td>   NA</td><td>⋯</td><td>     NA</td><td>     NA</td><td>   NA</td><td>    NA</td><td>   NA</td><td>     NA</td><td>      NA</td><td>     NA</td><td>      NA</td><td>      NA</td></tr>\n",
       "\t<tr><td>20210307</td><td>AR</td><td> 324818</td><td>207596</td><td> 50842</td><td>     NA</td><td>  2913</td><td> 1070</td><td> 3358</td><td> 1804</td><td>⋯</td><td>     NA</td><td>     NA</td><td>   NA</td><td>    NA</td><td>   NA</td><td>     NA</td><td>      NA</td><td>     NA</td><td>      NA</td><td>      NA</td></tr>\n",
       "\t<tr><td>20210307</td><td>AS</td><td>     NA</td><td>    NA</td><td>    NA</td><td>     NA</td><td>    NA</td><td>   NA</td><td>   NA</td><td>   NA</td><td>⋯</td><td>     NA</td><td>     NA</td><td>   NA</td><td>    NA</td><td>   NA</td><td>     NA</td><td>      NA</td><td>     NA</td><td>      NA</td><td>      NA</td></tr>\n",
       "\t<tr><td>20210307</td><td>AZ</td><td> 826454</td><td>308453</td><td> 25775</td><td> 244539</td><td> 11921</td><td>40707</td><td>   NA</td><td>   NA</td><td>⋯</td><td>     NA</td><td>     NA</td><td>   NA</td><td>    NA</td><td>   NA</td><td>     NA</td><td>      NA</td><td>     NA</td><td>      NA</td><td>      NA</td></tr>\n",
       "\t<tr><td>20210307</td><td>CA</td><td>3501394</td><td>546630</td><td>111279</td><td>1509103</td><td>186562</td><td> 9025</td><td>15281</td><td>42824</td><td>⋯</td><td>9444459</td><td>3980518</td><td>98894</td><td>222513</td><td>74171</td><td>6354689</td><td>18567612</td><td>9444459</td><td>21633943</td><td>18567612</td></tr>\n",
       "</tbody>\n",
       "</table>\n"
      ],
      "text/latex": [
       "A tibble: 6 × 54\n",
       "\\begin{tabular}{lllllllllllllllllllll}\n",
       " Date & State & Cases\\_Total & Cases\\_White & Cases\\_Black & Cases\\_Latinx & Cases\\_Asian & Cases\\_AIAN & Cases\\_NHPI & Cases\\_Multiracial & ⋯ & Tests\\_Latinx & Tests\\_Asian & Tests\\_AIAN & Tests\\_NHPI & Tests\\_Multiracial & Tests\\_Other & Tests\\_Unknown & Tests\\_Ethnicity\\_Hispanic & Tests\\_Ethnicity\\_NonHispanic & Tests\\_Ethnicity\\_Unknown\\\\\n",
       " <dbl> & <chr> & <dbl> & <dbl> & <dbl> & <dbl> & <dbl> & <dbl> & <dbl> & <dbl> & ⋯ & <dbl> & <dbl> & <dbl> & <dbl> & <dbl> & <dbl> & <dbl> & <dbl> & <dbl> & <dbl>\\\\\n",
       "\\hline\n",
       "\t 20210307 & AK &   59332 &  18300 &   1499 &      NA &   2447 & 12238 &  1508 &  4453 & ⋯ &      NA &      NA &    NA &     NA &    NA &      NA &       NA &      NA &       NA &       NA\\\\\n",
       "\t 20210307 & AL &  499819 & 160347 &  82790 &      NA &   2273 &    NA &    NA &    NA & ⋯ &      NA &      NA &    NA &     NA &    NA &      NA &       NA &      NA &       NA &       NA\\\\\n",
       "\t 20210307 & AR &  324818 & 207596 &  50842 &      NA &   2913 &  1070 &  3358 &  1804 & ⋯ &      NA &      NA &    NA &     NA &    NA &      NA &       NA &      NA &       NA &       NA\\\\\n",
       "\t 20210307 & AS &      NA &     NA &     NA &      NA &     NA &    NA &    NA &    NA & ⋯ &      NA &      NA &    NA &     NA &    NA &      NA &       NA &      NA &       NA &       NA\\\\\n",
       "\t 20210307 & AZ &  826454 & 308453 &  25775 &  244539 &  11921 & 40707 &    NA &    NA & ⋯ &      NA &      NA &    NA &     NA &    NA &      NA &       NA &      NA &       NA &       NA\\\\\n",
       "\t 20210307 & CA & 3501394 & 546630 & 111279 & 1509103 & 186562 &  9025 & 15281 & 42824 & ⋯ & 9444459 & 3980518 & 98894 & 222513 & 74171 & 6354689 & 18567612 & 9444459 & 21633943 & 18567612\\\\\n",
       "\\end{tabular}\n"
      ],
      "text/markdown": [
       "\n",
       "A tibble: 6 × 54\n",
       "\n",
       "| Date &lt;dbl&gt; | State &lt;chr&gt; | Cases_Total &lt;dbl&gt; | Cases_White &lt;dbl&gt; | Cases_Black &lt;dbl&gt; | Cases_Latinx &lt;dbl&gt; | Cases_Asian &lt;dbl&gt; | Cases_AIAN &lt;dbl&gt; | Cases_NHPI &lt;dbl&gt; | Cases_Multiracial &lt;dbl&gt; | ⋯ ⋯ | Tests_Latinx &lt;dbl&gt; | Tests_Asian &lt;dbl&gt; | Tests_AIAN &lt;dbl&gt; | Tests_NHPI &lt;dbl&gt; | Tests_Multiracial &lt;dbl&gt; | Tests_Other &lt;dbl&gt; | Tests_Unknown &lt;dbl&gt; | Tests_Ethnicity_Hispanic &lt;dbl&gt; | Tests_Ethnicity_NonHispanic &lt;dbl&gt; | Tests_Ethnicity_Unknown &lt;dbl&gt; |\n",
       "|---|---|---|---|---|---|---|---|---|---|---|---|---|---|---|---|---|---|---|---|---|\n",
       "| 20210307 | AK |   59332 |  18300 |   1499 |      NA |   2447 | 12238 |  1508 |  4453 | ⋯ |      NA |      NA |    NA |     NA |    NA |      NA |       NA |      NA |       NA |       NA |\n",
       "| 20210307 | AL |  499819 | 160347 |  82790 |      NA |   2273 |    NA |    NA |    NA | ⋯ |      NA |      NA |    NA |     NA |    NA |      NA |       NA |      NA |       NA |       NA |\n",
       "| 20210307 | AR |  324818 | 207596 |  50842 |      NA |   2913 |  1070 |  3358 |  1804 | ⋯ |      NA |      NA |    NA |     NA |    NA |      NA |       NA |      NA |       NA |       NA |\n",
       "| 20210307 | AS |      NA |     NA |     NA |      NA |     NA |    NA |    NA |    NA | ⋯ |      NA |      NA |    NA |     NA |    NA |      NA |       NA |      NA |       NA |       NA |\n",
       "| 20210307 | AZ |  826454 | 308453 |  25775 |  244539 |  11921 | 40707 |    NA |    NA | ⋯ |      NA |      NA |    NA |     NA |    NA |      NA |       NA |      NA |       NA |       NA |\n",
       "| 20210307 | CA | 3501394 | 546630 | 111279 | 1509103 | 186562 |  9025 | 15281 | 42824 | ⋯ | 9444459 | 3980518 | 98894 | 222513 | 74171 | 6354689 | 18567612 | 9444459 | 21633943 | 18567612 |\n",
       "\n"
      ],
      "text/plain": [
       "  Date     State Cases_Total Cases_White Cases_Black Cases_Latinx Cases_Asian\n",
       "1 20210307 AK      59332      18300        1499           NA        2447     \n",
       "2 20210307 AL     499819     160347       82790           NA        2273     \n",
       "3 20210307 AR     324818     207596       50842           NA        2913     \n",
       "4 20210307 AS         NA         NA          NA           NA          NA     \n",
       "5 20210307 AZ     826454     308453       25775       244539       11921     \n",
       "6 20210307 CA    3501394     546630      111279      1509103      186562     \n",
       "  Cases_AIAN Cases_NHPI Cases_Multiracial ⋯ Tests_Latinx Tests_Asian Tests_AIAN\n",
       "1 12238       1508       4453             ⋯      NA           NA        NA     \n",
       "2    NA         NA         NA             ⋯      NA           NA        NA     \n",
       "3  1070       3358       1804             ⋯      NA           NA        NA     \n",
       "4    NA         NA         NA             ⋯      NA           NA        NA     \n",
       "5 40707         NA         NA             ⋯      NA           NA        NA     \n",
       "6  9025      15281      42824             ⋯ 9444459      3980518     98894     \n",
       "  Tests_NHPI Tests_Multiracial Tests_Other Tests_Unknown\n",
       "1     NA        NA                  NA           NA     \n",
       "2     NA        NA                  NA           NA     \n",
       "3     NA        NA                  NA           NA     \n",
       "4     NA        NA                  NA           NA     \n",
       "5     NA        NA                  NA           NA     \n",
       "6 222513     74171             6354689     18567612     \n",
       "  Tests_Ethnicity_Hispanic Tests_Ethnicity_NonHispanic Tests_Ethnicity_Unknown\n",
       "1      NA                        NA                          NA               \n",
       "2      NA                        NA                          NA               \n",
       "3      NA                        NA                          NA               \n",
       "4      NA                        NA                          NA               \n",
       "5      NA                        NA                          NA               \n",
       "6 9444459                  21633943                    18567612               "
      ]
     },
     "metadata": {},
     "output_type": "display_data"
    }
   ],
   "source": [
    "head(df)"
   ]
  },
  {
   "cell_type": "code",
   "execution_count": 6,
   "id": "966a1207",
   "metadata": {},
   "outputs": [
    {
     "name": "stdout",
     "output_type": "stream",
     "text": [
      "Rows: 5,320\n",
      "Columns: 54\n",
      "$ Date                         \u001b[3m\u001b[90m<dbl>\u001b[39m\u001b[23m 20210307, 20210307, 20210307, 20210307, 2…\n",
      "$ State                        \u001b[3m\u001b[90m<chr>\u001b[39m\u001b[23m \"AK\", \"AL\", \"AR\", \"AS\", \"AZ\", \"CA\", \"CO\",…\n",
      "$ Cases_Total                  \u001b[3m\u001b[90m<dbl>\u001b[39m\u001b[23m 59332, 499819, 324818, NA, 826454, 350139…\n",
      "$ Cases_White                  \u001b[3m\u001b[90m<dbl>\u001b[39m\u001b[23m 18300, 160347, 207596, NA, 308453, 546630…\n",
      "$ Cases_Black                  \u001b[3m\u001b[90m<dbl>\u001b[39m\u001b[23m 1499, 82790, 50842, NA, 25775, 111279, 12…\n",
      "$ Cases_Latinx                 \u001b[3m\u001b[90m<dbl>\u001b[39m\u001b[23m NA, NA, NA, NA, 244539, 1509103, 119224, …\n",
      "$ Cases_Asian                  \u001b[3m\u001b[90m<dbl>\u001b[39m\u001b[23m 2447, 2273, 2913, NA, 11921, 186562, 6406…\n",
      "$ Cases_AIAN                   \u001b[3m\u001b[90m<dbl>\u001b[39m\u001b[23m 12238, NA, 1070, NA, 40707, 9025, 2527, 3…\n",
      "$ Cases_NHPI                   \u001b[3m\u001b[90m<dbl>\u001b[39m\u001b[23m 1508, NA, 3358, NA, NA, 15281, 1264, NA, …\n",
      "$ Cases_Multiracial            \u001b[3m\u001b[90m<dbl>\u001b[39m\u001b[23m 4453, NA, 1804, NA, NA, 42824, 6580, 1764…\n",
      "$ Cases_Other                  \u001b[3m\u001b[90m<dbl>\u001b[39m\u001b[23m 7130, 38000, 16491, NA, 46964, 304477, 33…\n",
      "$ Cases_Unknown                \u001b[3m\u001b[90m<dbl>\u001b[39m\u001b[23m 11757, 216409, 40744, NA, 148095, 776213,…\n",
      "$ Cases_Ethnicity_Hispanic     \u001b[3m\u001b[90m<dbl>\u001b[39m\u001b[23m 3197, 12312, 34332, NA, 244539, 1509103, …\n",
      "$ Cases_Ethnicity_NonHispanic  \u001b[3m\u001b[90m<dbl>\u001b[39m\u001b[23m 29625, 167064, 290486, NA, 433820, 121607…\n",
      "$ Cases_Ethnicity_Unknown      \u001b[3m\u001b[90m<dbl>\u001b[39m\u001b[23m 26510, 320443, 0, NA, 148095, 776213, 102…\n",
      "$ Deaths_Total                 \u001b[3m\u001b[90m<dbl>\u001b[39m\u001b[23m 305, 10148, 5319, NA, 16328, 54124, 5986,…\n",
      "$ Deaths_White                 \u001b[3m\u001b[90m<dbl>\u001b[39m\u001b[23m 127, 4730, 4171, NA, 8066, 16586, 3869, 5…\n",
      "$ Deaths_Black                 \u001b[3m\u001b[90m<dbl>\u001b[39m\u001b[23m 9, 2223, 784, NA, 433, 3275, 191, 906, 77…\n",
      "$ Deaths_Latinx                \u001b[3m\u001b[90m<dbl>\u001b[39m\u001b[23m NA, NA, NA, NA, 4684, 24402, 1204, 782, 1…\n",
      "$ Deaths_Asian                 \u001b[3m\u001b[90m<dbl>\u001b[39m\u001b[23m 29, 24, 36, NA, 220, 6105, 115, 83, 14, 1…\n",
      "$ Deaths_AIAN                  \u001b[3m\u001b[90m<dbl>\u001b[39m\u001b[23m 111, NA, 18, NA, 1361, 184, 37, 3, NA, NA…\n",
      "$ Deaths_NHPI                  \u001b[3m\u001b[90m<dbl>\u001b[39m\u001b[23m 17, NA, 56, NA, NA, 322, 9, NA, NA, NA, N…\n",
      "$ Deaths_Multiracial           \u001b[3m\u001b[90m<dbl>\u001b[39m\u001b[23m 4, NA, 13, NA, NA, 693, 186, 353, NA, NA,…\n",
      "$ Deaths_Other                 \u001b[3m\u001b[90m<dbl>\u001b[39m\u001b[23m 1, 300, 203, NA, 465, 1103, 38, 38, 0, 15…\n",
      "$ Deaths_Unknown               \u001b[3m\u001b[90m<dbl>\u001b[39m\u001b[23m 7, 2871, 38, NA, 1099, 1454, 337, 126, 19…\n",
      "$ Deaths_Ethnicity_Hispanic    \u001b[3m\u001b[90m<dbl>\u001b[39m\u001b[23m 13, 137, 186, NA, 4684, 24402, 1204, 782,…\n",
      "$ Deaths_Ethnicity_NonHispanic \u001b[3m\u001b[90m<dbl>\u001b[39m\u001b[23m 280, 6083, 5133, NA, 10545, 28268, 4445, …\n",
      "$ Deaths_Ethnicity_Unknown     \u001b[3m\u001b[90m<dbl>\u001b[39m\u001b[23m 12, 3928, 0, NA, 1099, 1454, 337, 126, 19…\n",
      "$ Hosp_Total                   \u001b[3m\u001b[90m<dbl>\u001b[39m\u001b[23m 1293, NA, NA, NA, 57907, NA, NA, NA, NA, …\n",
      "$ Hosp_White                   \u001b[3m\u001b[90m<dbl>\u001b[39m\u001b[23m 423, NA, NA, NA, 26710, NA, NA, NA, NA, N…\n",
      "$ Hosp_Black                   \u001b[3m\u001b[90m<dbl>\u001b[39m\u001b[23m 45, NA, NA, NA, 2479, NA, NA, NA, NA, NA,…\n",
      "$ Hosp_Latinx                  \u001b[3m\u001b[90m<dbl>\u001b[39m\u001b[23m NA, NA, NA, NA, 18730, NA, NA, NA, NA, NA…\n",
      "$ Hosp_Asian                   \u001b[3m\u001b[90m<dbl>\u001b[39m\u001b[23m 116, NA, NA, NA, 1015, NA, NA, NA, NA, NA…\n",
      "$ Hosp_AIAN                    \u001b[3m\u001b[90m<dbl>\u001b[39m\u001b[23m 336, NA, NA, NA, 4496, NA, NA, NA, NA, NA…\n",
      "$ Hosp_NHPI                    \u001b[3m\u001b[90m<dbl>\u001b[39m\u001b[23m 126, NA, NA, NA, NA, NA, NA, NA, NA, NA, …\n",
      "$ Hosp_Multiracial             \u001b[3m\u001b[90m<dbl>\u001b[39m\u001b[23m 67, NA, NA, NA, NA, NA, NA, NA, NA, NA, N…\n",
      "$ Hosp_Other                   \u001b[3m\u001b[90m<dbl>\u001b[39m\u001b[23m 54, NA, NA, NA, 2562, NA, NA, NA, NA, NA,…\n",
      "$ Hosp_Unknown                 \u001b[3m\u001b[90m<dbl>\u001b[39m\u001b[23m 126, NA, NA, NA, 1915, NA, NA, NA, NA, NA…\n",
      "$ Hosp_Ethnicity_Hispanic      \u001b[3m\u001b[90m<dbl>\u001b[39m\u001b[23m 66, NA, NA, NA, 18730, NA, NA, NA, NA, NA…\n",
      "$ Hosp_Ethnicity_NonHispanic   \u001b[3m\u001b[90m<dbl>\u001b[39m\u001b[23m 939, NA, NA, NA, 37262, NA, NA, NA, NA, N…\n",
      "$ Hosp_Ethnicity_Unknown       \u001b[3m\u001b[90m<dbl>\u001b[39m\u001b[23m 288, NA, NA, NA, 1915, NA, NA, NA, NA, NA…\n",
      "$ Tests_Total                  \u001b[3m\u001b[90m<dbl>\u001b[39m\u001b[23m NA, NA, NA, NA, NA, 49646014, NA, NA, NA,…\n",
      "$ Tests_White                  \u001b[3m\u001b[90m<dbl>\u001b[39m\u001b[23m NA, NA, NA, NA, NA, 9172498, NA, NA, NA, …\n",
      "$ Tests_Black                  \u001b[3m\u001b[90m<dbl>\u001b[39m\u001b[23m NA, NA, NA, NA, NA, 1730660, NA, NA, NA, …\n",
      "$ Tests_Latinx                 \u001b[3m\u001b[90m<dbl>\u001b[39m\u001b[23m NA, NA, NA, NA, NA, 9444459, NA, NA, NA, …\n",
      "$ Tests_Asian                  \u001b[3m\u001b[90m<dbl>\u001b[39m\u001b[23m NA, NA, NA, NA, NA, 3980518, NA, NA, NA, …\n",
      "$ Tests_AIAN                   \u001b[3m\u001b[90m<dbl>\u001b[39m\u001b[23m NA, NA, NA, NA, NA, 98894, NA, NA, NA, NA…\n",
      "$ Tests_NHPI                   \u001b[3m\u001b[90m<dbl>\u001b[39m\u001b[23m NA, NA, NA, NA, NA, 222513, NA, NA, NA, N…\n",
      "$ Tests_Multiracial            \u001b[3m\u001b[90m<dbl>\u001b[39m\u001b[23m NA, NA, NA, NA, NA, 74171, NA, NA, NA, NA…\n",
      "$ Tests_Other                  \u001b[3m\u001b[90m<dbl>\u001b[39m\u001b[23m NA, NA, NA, NA, NA, 6354689, NA, NA, NA, …\n",
      "$ Tests_Unknown                \u001b[3m\u001b[90m<dbl>\u001b[39m\u001b[23m NA, NA, NA, NA, NA, 18567612, NA, NA, NA,…\n",
      "$ Tests_Ethnicity_Hispanic     \u001b[3m\u001b[90m<dbl>\u001b[39m\u001b[23m NA, NA, NA, NA, NA, 9444459, NA, NA, NA, …\n",
      "$ Tests_Ethnicity_NonHispanic  \u001b[3m\u001b[90m<dbl>\u001b[39m\u001b[23m NA, NA, NA, NA, NA, 21633943, NA, NA, NA,…\n",
      "$ Tests_Ethnicity_Unknown      \u001b[3m\u001b[90m<dbl>\u001b[39m\u001b[23m NA, NA, NA, NA, NA, 18567612, NA, NA, NA,…\n"
     ]
    }
   ],
   "source": [
    "glimpse (df)"
   ]
  },
  {
   "cell_type": "markdown",
   "id": "cf1d7b7b",
   "metadata": {},
   "source": [
    "### 2.2 Clean and wrangle data into a tidy format\n"
   ]
  },
  {
   "cell_type": "code",
   "execution_count": 41,
   "id": "d3309246",
   "metadata": {},
   "outputs": [
    {
     "name": "stdout",
     "output_type": "stream",
     "text": [
      "Rows: 5,320\n",
      "Columns: 11\n",
      "$ State         \u001b[3m\u001b[90m<chr>\u001b[39m\u001b[23m \"AK\", \"AL\", \"AR\", \"AS\", \"AZ\", \"CA\", \"CO\", \"CT\", \"DC\", \"D~\n",
      "$ Cases_Total   \u001b[3m\u001b[90m<dbl>\u001b[39m\u001b[23m 59332, 499819, 324818, NA, 826454, 3501394, 435762, 2853~\n",
      "$ Cases_White   \u001b[3m\u001b[90m<dbl>\u001b[39m\u001b[23m 18300, 160347, 207596, NA, 308453, 546630, 181669, 85469~\n",
      "$ Cases_Black   \u001b[3m\u001b[90m<dbl>\u001b[39m\u001b[23m 1499, 82790, 50842, NA, 25775, 111279, 12637, 19651, 201~\n",
      "$ Cases_Latinx  \u001b[3m\u001b[90m<dbl>\u001b[39m\u001b[23m NA, NA, NA, NA, 244539, 1509103, 119224, 41523, NA, 1453~\n",
      "$ Cases_Asian   \u001b[3m\u001b[90m<dbl>\u001b[39m\u001b[23m 2447, 2273, 2913, NA, 11921, 186562, 6406, 3019, 914, 18~\n",
      "$ Deaths_Total  \u001b[3m\u001b[90m<dbl>\u001b[39m\u001b[23m 305, 10148, 5319, NA, 16328, 54124, 5986, 7704, 1030, 14~\n",
      "$ Deaths_White  \u001b[3m\u001b[90m<dbl>\u001b[39m\u001b[23m 127, 4730, 4171, NA, 8066, 16586, 3869, 5413, 105, 1036,~\n",
      "$ Deaths_Black  \u001b[3m\u001b[90m<dbl>\u001b[39m\u001b[23m 9, 2223, 784, NA, 433, 3275, 191, 906, 773, 329, 4812, 5~\n",
      "$ Deaths_Latinx \u001b[3m\u001b[90m<dbl>\u001b[39m\u001b[23m NA, NA, NA, NA, 4684, 24402, 1204, 782, 119, 80, 7325, 8~\n",
      "$ Deaths_Asian  \u001b[3m\u001b[90m<dbl>\u001b[39m\u001b[23m 29, 24, 36, NA, 220, 6105, 115, 83, 14, 11, NA, 298, 33,~\n"
     ]
    }
   ],
   "source": [
    "# Select the columns\n",
    "# Too many unuseful data, so only interested in Cases Total , white ,black, latinx,asian and their deaths.\n",
    "Case_Death <- df %>% \n",
    "    #select(Cases_Total:Cases_Other, Deaths_Total:Deaths_Other, Hosp_Total:Hosp_Other)\n",
    "    select(State, Cases_Total:Cases_Asian, Deaths_Total:Deaths_Asian)\n",
    "\n",
    "glimpse(Case_Death)"
   ]
  },
  {
   "cell_type": "markdown",
   "id": "dc17fbf8",
   "metadata": {},
   "source": [
    "#### Reasons to drop other columns \n",
    "\n",
    "\n",
    "Cases_Unknown               \n",
    "Cases_Ethnicity_Hispanic    \n",
    "Cases_Ethnicity_NonHispanic \n",
    "Cases_Ethnicity_Unknown     \n",
    "\n",
    "Similarly, for\n",
    "\n",
    "Deaths_Unknown               \n",
    "Deaths_Ethnicity_Hispanic    \n",
    "Deaths_Ethnicity_NonHispanic \n",
    "Deaths_Ethnicity_Unknown  \n",
    "\n",
    "Hosp_Unknown               \n",
    "Hosp_Ethnicity_Hispanic    \n",
    "Hosp_Ethnicity_NonHispanic \n",
    "Hosp_Ethnicity_Unknown  \n",
    "\n",
    "Also, \n",
    "for all Tests columns, \n",
    "- too many NA values\n",
    "for all Hospital columns????\n",
    "\n"
   ]
  },
  {
   "cell_type": "code",
   "execution_count": 42,
   "id": "df295a6a",
   "metadata": {},
   "outputs": [
    {
     "name": "stdout",
     "output_type": "stream",
     "text": [
      "Rows: 1,855\n",
      "Columns: 11\n",
      "$ State         \u001b[3m\u001b[90m<chr>\u001b[39m\u001b[23m \"AZ\", \"CA\", \"CO\", \"CT\", \"DE\", \"GA\", \"IL\", \"MA\", \"MD\", \"M~\n",
      "$ Cases_Total   \u001b[3m\u001b[90m<dbl>\u001b[39m\u001b[23m 826454, 3501394, 435762, 285330, 88354, 1023487, 1198335~\n",
      "$ Cases_White   \u001b[3m\u001b[90m<dbl>\u001b[39m\u001b[23m 308453, 546630, 181669, 85469, 42730, 319208, 470333, 21~\n",
      "$ Cases_Black   \u001b[3m\u001b[90m<dbl>\u001b[39m\u001b[23m 25775, 111279, 12637, 19651, 19768, 216068, 110701, 3534~\n",
      "$ Cases_Latinx  \u001b[3m\u001b[90m<dbl>\u001b[39m\u001b[23m 244539, 1509103, 119224, 41523, 14532, 85460, 219967, 12~\n",
      "$ Cases_Asian   \u001b[3m\u001b[90m<dbl>\u001b[39m\u001b[23m 11921, 186562, 6406, 3019, 1842, 17888, 27074, 16039, 88~\n",
      "$ Deaths_Total  \u001b[3m\u001b[90m<dbl>\u001b[39m\u001b[23m 16328, 54124, 5986, 7704, 1473, 17906, 23014, 16417, 795~\n",
      "$ Deaths_White  \u001b[3m\u001b[90m<dbl>\u001b[39m\u001b[23m 8066, 16586, 3869, 5413, 1036, 8939, 12202, 12022, 4078,~\n",
      "$ Deaths_Black  \u001b[3m\u001b[90m<dbl>\u001b[39m\u001b[23m 433, 3275, 191, 906, 329, 5282, 3668, 1069, 2736, 319, 2~\n",
      "$ Deaths_Latinx \u001b[3m\u001b[90m<dbl>\u001b[39m\u001b[23m 4684, 24402, 1204, 782, 80, 852, 3291, 1289, 727, 203, 6~\n",
      "$ Deaths_Asian  \u001b[3m\u001b[90m<dbl>\u001b[39m\u001b[23m 220, 6105, 115, 83, 11, 298, 737, 414, 277, 259, 18, 12,~\n"
     ]
    }
   ],
   "source": [
    "# Clean the NA values\n",
    "Case_Death_Clean  <- Case_Death %>% \n",
    "#     filter(!is.na('') & !is.na('') & !is.na('')\n",
    "    drop_na() \n",
    "\n",
    "glimpse(Case_Death_Clean)"
   ]
  },
  {
   "cell_type": "code",
   "execution_count": 58,
   "id": "b2d4231c",
   "metadata": {},
   "outputs": [
    {
     "data": {
      "text/html": [
       "<table class=\"dataframe\">\n",
       "<caption>A tibble: 1 × 8</caption>\n",
       "<thead>\n",
       "\t<tr><th scope=col>p_white</th><th scope=col>p_black</th><th scope=col>p_Asian</th><th scope=col>p_latin</th><th scope=col>d_white</th><th scope=col>d_black</th><th scope=col>d_Asian</th><th scope=col>d_latin</th></tr>\n",
       "\t<tr><th scope=col>&lt;dbl&gt;</th><th scope=col>&lt;dbl&gt;</th><th scope=col>&lt;dbl&gt;</th><th scope=col>&lt;dbl&gt;</th><th scope=col>&lt;dbl&gt;</th><th scope=col>&lt;dbl&gt;</th><th scope=col>&lt;dbl&gt;</th><th scope=col>&lt;dbl&gt;</th></tr>\n",
       "</thead>\n",
       "<tbody>\n",
       "\t<tr><td>0.2707987</td><td>0.03417792</td><td>0.03536115</td><td>0.2178786</td><td>0.6844327</td><td>0.03123711</td><td>0.07455196</td><td>0.1250708</td></tr>\n",
       "</tbody>\n",
       "</table>\n"
      ],
      "text/latex": [
       "A tibble: 1 × 8\n",
       "\\begin{tabular}{llllllll}\n",
       " p\\_white & p\\_black & p\\_Asian & p\\_latin & d\\_white & d\\_black & d\\_Asian & d\\_latin\\\\\n",
       " <dbl> & <dbl> & <dbl> & <dbl> & <dbl> & <dbl> & <dbl> & <dbl>\\\\\n",
       "\\hline\n",
       "\t 0.2707987 & 0.03417792 & 0.03536115 & 0.2178786 & 0.6844327 & 0.03123711 & 0.07455196 & 0.1250708\\\\\n",
       "\\end{tabular}\n"
      ],
      "text/markdown": [
       "\n",
       "A tibble: 1 × 8\n",
       "\n",
       "| p_white &lt;dbl&gt; | p_black &lt;dbl&gt; | p_Asian &lt;dbl&gt; | p_latin &lt;dbl&gt; | d_white &lt;dbl&gt; | d_black &lt;dbl&gt; | d_Asian &lt;dbl&gt; | d_latin &lt;dbl&gt; |\n",
       "|---|---|---|---|---|---|---|---|\n",
       "| 0.2707987 | 0.03417792 | 0.03536115 | 0.2178786 | 0.6844327 | 0.03123711 | 0.07455196 | 0.1250708 |\n",
       "\n"
      ],
      "text/plain": [
       "  p_white   p_black    p_Asian    p_latin   d_white   d_black    d_Asian   \n",
       "1 0.2707987 0.03417792 0.03536115 0.2178786 0.6844327 0.03123711 0.07455196\n",
       "  d_latin  \n",
       "1 0.1250708"
      ]
     },
     "metadata": {},
     "output_type": "display_data"
    }
   ],
   "source": [
    "\n",
    "# Or pivoting by cases? \n",
    "# Focus on one state WA\n",
    "tidy_cdc <- Case_Death_Clean %>%\n",
    "            filter(State == \"WA\") %>%\n",
    "            summarize(p_white = sum(Cases_White) / sum(Cases_Total),\n",
    "                     p_black = sum(Cases_Black) / sum(Cases_Total),\n",
    "                     p_Asian = sum(Cases_Asian) / sum(Cases_Total),\n",
    "                     p_latin = sum(Cases_Latinx) / sum(Cases_Total),\n",
    "                     d_white = sum(Deaths_White) / sum(Deaths_Total),\n",
    "                     d_black = sum(Deaths_Black) / sum(Deaths_Total),\n",
    "                     d_Asian = sum(Deaths_Asian) / sum(Deaths_Total),\n",
    "                     d_latin = sum(Deaths_Latinx) / sum(Deaths_Total))\n",
    "\n",
    "tidy_cdc\n",
    "# Pivoting by deaths? \n",
    "\n",
    "# group by races? \n",
    "\n",
    "\n"
   ]
  },
  {
   "cell_type": "markdown",
   "id": "7baf157f",
   "metadata": {},
   "source": [
    "### 2.3 Plot the relevant raw data, tailoring your plot in a way that addresses your question."
   ]
  },
  {
   "cell_type": "code",
   "execution_count": 29,
   "id": "eabcc800",
   "metadata": {},
   "outputs": [],
   "source": [
    "# Plotting raw data"
   ]
  },
  {
   "cell_type": "markdown",
   "id": "48e3ed67",
   "metadata": {},
   "source": [
    "### 2.4 Compute estimates \n",
    "\n",
    "*Compute estimates of the parameter you identified across your groups. Present this in a table. If relevant, include these estimates in your plot.*"
   ]
  },
  {
   "cell_type": "code",
   "execution_count": null,
   "id": "155913d0",
   "metadata": {},
   "outputs": [],
   "source": [
    "# Summary statistics "
   ]
  },
  {
   "cell_type": "markdown",
   "id": "9c6468f8",
   "metadata": {},
   "source": [
    "## 3. Methods: Plan"
   ]
  },
  {
   "cell_type": "markdown",
   "id": "c48cf8e2",
   "metadata": {},
   "source": [
    "### 3.1 What do you expect to find?\n",
    "\n",
    "Text"
   ]
  },
  {
   "cell_type": "markdown",
   "id": "a78566cf",
   "metadata": {},
   "source": [
    "### 3.2 What impact could such findings have?\n",
    "\n",
    "Text"
   ]
  },
  {
   "cell_type": "markdown",
   "id": "31f684df",
   "metadata": {},
   "source": [
    "### 3.3 What future questions could this lead to?\n",
    "\n",
    "Text"
   ]
  },
  {
   "cell_type": "markdown",
   "id": "bbdb4ac2",
   "metadata": {},
   "source": [
    "## 4. Reference\n"
   ]
  },
  {
   "cell_type": "markdown",
   "id": "9745d4b3",
   "metadata": {},
   "source": [
    "About the Racial Data Tracker\n",
    "https://covidtracking.com/race/about"
   ]
  }
 ],
 "metadata": {
  "kernelspec": {
   "display_name": "R",
   "language": "R",
   "name": "ir"
  },
  "language_info": {
   "codemirror_mode": "r",
   "file_extension": ".r",
   "mimetype": "text/x-r-source",
   "name": "R",
   "pygments_lexer": "r",
   "version": "4.1.2"
  }
 },
 "nbformat": 4,
 "nbformat_minor": 5
}

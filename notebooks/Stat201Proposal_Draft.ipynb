{
 "cells": [
  {
   "cell_type": "markdown",
   "id": "18cab602",
   "metadata": {},
   "source": [
    "# Project Proposal Group 15\n",
    "\n",
    "#### By: Tony Liang, Jack Fan, Minghao Wang"
   ]
  },
  {
   "cell_type": "markdown",
   "id": "674efcff",
   "metadata": {},
   "source": [
    "## 1. Introduction\n",
    "\n",
    "### Below are just instructions to be deleted after finish\n",
    "*Begin by providing some relevant background information on the topic so that someone unfamiliar with it will be prepared to understand the rest of your proposal.*\n",
    "\n",
    "*Clearly state the question you will try to answer with your project. Your question should involve one or more random variables of interest, spread across two or more categories that are interesting to compare. For example, you could consider the annual maxima river flow at two different locations along a river, or perhaps gender diversity at different universities. Of the response variable, identify one location parameter (mean, median, quantile, etc.) and one scale parameter (standard deviation, inter-quartile range, etc.) that would be useful in answering your question. Justify your choices.*\n",
    "\n",
    "*Identify and describe the dataset that will be used to answer the question. Remember, this dataset is allowed to contain more variables than you need – feel free to drop them!*\n",
    "\n",
    "*Also, be sure to frame your question/objectives in terms of what is already known in the literature. Be sure to include at least two scientific publications that can help frame your study (you will need to include these in the References section). We have no specific citation style requirements, but be consistent.*"
   ]
  },
  {
   "cell_type": "markdown",
   "id": "c3cc7cb4",
   "metadata": {},
   "source": [
    "### 1.1 Background information on the topic\n",
    "\n",
    "Text"
   ]
  },
  {
   "cell_type": "markdown",
   "id": "78294f2c",
   "metadata": {},
   "source": [
    "### 1.2 The Question \n",
    "\n",
    "Text"
   ]
  },
  {
   "cell_type": "markdown",
   "id": "050a522a",
   "metadata": {},
   "source": [
    "### 1.3 The Dataset\n",
    "\n",
    "Text"
   ]
  },
  {
   "cell_type": "markdown",
   "id": "fc17db32",
   "metadata": {},
   "source": [
    "### 1.4 The Literature \n",
    "\n",
    "Text"
   ]
  },
  {
   "cell_type": "markdown",
   "id": "ab5d8776",
   "metadata": {},
   "source": [
    "## 2. Preliminary Results"
   ]
  },
  {
   "cell_type": "markdown",
   "id": "d30e73cd",
   "metadata": {},
   "source": [
    "### 2.0 Libraries and Packages"
   ]
  },
  {
   "cell_type": "code",
   "execution_count": 2,
   "id": "2d53d3cc",
   "metadata": {},
   "outputs": [
    {
     "name": "stderr",
     "output_type": "stream",
     "text": [
      "-- \u001b[1mAttaching packages\u001b[22m ----------------------------------- tidyverse 1.3.1 --\n",
      "\n",
      "\u001b[32mv\u001b[39m \u001b[34mggplot2\u001b[39m 3.3.5     \u001b[32mv\u001b[39m \u001b[34mpurrr  \u001b[39m 0.3.4\n",
      "\u001b[32mv\u001b[39m \u001b[34mtibble \u001b[39m 3.1.6     \u001b[32mv\u001b[39m \u001b[34mdplyr  \u001b[39m 1.0.7\n",
      "\u001b[32mv\u001b[39m \u001b[34mtidyr  \u001b[39m 1.1.4     \u001b[32mv\u001b[39m \u001b[34mstringr\u001b[39m 1.4.0\n",
      "\u001b[32mv\u001b[39m \u001b[34mreadr  \u001b[39m 2.1.1     \u001b[32mv\u001b[39m \u001b[34mforcats\u001b[39m 0.5.1\n",
      "\n",
      "-- \u001b[1mConflicts\u001b[22m -------------------------------------- tidyverse_conflicts() --\n",
      "\u001b[31mx\u001b[39m \u001b[34mdplyr\u001b[39m::\u001b[32mfilter()\u001b[39m masks \u001b[34mstats\u001b[39m::filter()\n",
      "\u001b[31mx\u001b[39m \u001b[34mdplyr\u001b[39m::\u001b[32mlag()\u001b[39m    masks \u001b[34mstats\u001b[39m::lag()\n",
      "\n",
      "\n",
      "Attaching package: 'dbplyr'\n",
      "\n",
      "\n",
      "The following objects are masked from 'package:dplyr':\n",
      "\n",
      "    ident, sql\n",
      "\n",
      "\n",
      "\n",
      "Attaching package: 'lubridate'\n",
      "\n",
      "\n",
      "The following objects are masked from 'package:base':\n",
      "\n",
      "    date, intersect, setdiff, union\n",
      "\n",
      "\n"
     ]
    }
   ],
   "source": [
    "library(tidyverse)\n",
    "library(readr)\n",
    "library(tidyr)\n",
    "library(dbplyr)\n",
    "library(lubridate)"
   ]
  },
  {
   "cell_type": "markdown",
   "id": "9d204994",
   "metadata": {},
   "source": [
    "### 2.1 Read the data into R"
   ]
  },
  {
   "cell_type": "code",
   "execution_count": 14,
   "id": "589b743f",
   "metadata": {},
   "outputs": [
    {
     "name": "stderr",
     "output_type": "stream",
     "text": [
      "\u001b[1mRows: \u001b[22m\u001b[34m5320\u001b[39m \u001b[1mColumns: \u001b[22m\u001b[34m54\u001b[39m\n",
      "\n",
      "\u001b[36m--\u001b[39m \u001b[1mColumn specification\u001b[22m \u001b[36m----------------------------------------------------\u001b[39m\n",
      "\u001b[1mDelimiter:\u001b[22m \",\"\n",
      "\u001b[31mchr\u001b[39m  (1): State\n",
      "\u001b[32mdbl\u001b[39m (53): Date, Cases_Total, Cases_White, Cases_Black, Cases_Latinx, Cases_A...\n",
      "\n",
      "\n",
      "\u001b[36mi\u001b[39m Use \u001b[30m\u001b[47m\u001b[30m\u001b[47m`spec()`\u001b[47m\u001b[30m\u001b[49m\u001b[39m to retrieve the full column specification for this data.\n",
      "\u001b[36mi\u001b[39m Specify the column types or set \u001b[30m\u001b[47m\u001b[30m\u001b[47m`show_col_types = FALSE`\u001b[47m\u001b[30m\u001b[49m\u001b[39m to quiet this message.\n",
      "\n"
     ]
    },
    {
     "name": "stdout",
     "output_type": "stream",
     "text": [
      "The dimenstion of this dataframe is:  5320 x 54"
     ]
    },
    {
     "data": {
      "text/html": [
       "<table class=\"dataframe\">\n",
       "<caption>A tibble: 6 × 54</caption>\n",
       "<thead>\n",
       "\t<tr><th scope=col>Date</th><th scope=col>State</th><th scope=col>Cases_Total</th><th scope=col>Cases_White</th><th scope=col>Cases_Black</th><th scope=col>Cases_Latinx</th><th scope=col>Cases_Asian</th><th scope=col>Cases_AIAN</th><th scope=col>Cases_NHPI</th><th scope=col>Cases_Multiracial</th><th scope=col>...</th><th scope=col>Tests_Latinx</th><th scope=col>Tests_Asian</th><th scope=col>Tests_AIAN</th><th scope=col>Tests_NHPI</th><th scope=col>Tests_Multiracial</th><th scope=col>Tests_Other</th><th scope=col>Tests_Unknown</th><th scope=col>Tests_Ethnicity_Hispanic</th><th scope=col>Tests_Ethnicity_NonHispanic</th><th scope=col>Tests_Ethnicity_Unknown</th></tr>\n",
       "\t<tr><th scope=col>&lt;dbl&gt;</th><th scope=col>&lt;chr&gt;</th><th scope=col>&lt;dbl&gt;</th><th scope=col>&lt;dbl&gt;</th><th scope=col>&lt;dbl&gt;</th><th scope=col>&lt;dbl&gt;</th><th scope=col>&lt;dbl&gt;</th><th scope=col>&lt;dbl&gt;</th><th scope=col>&lt;dbl&gt;</th><th scope=col>&lt;dbl&gt;</th><th scope=col>...</th><th scope=col>&lt;dbl&gt;</th><th scope=col>&lt;dbl&gt;</th><th scope=col>&lt;dbl&gt;</th><th scope=col>&lt;dbl&gt;</th><th scope=col>&lt;dbl&gt;</th><th scope=col>&lt;dbl&gt;</th><th scope=col>&lt;dbl&gt;</th><th scope=col>&lt;dbl&gt;</th><th scope=col>&lt;dbl&gt;</th><th scope=col>&lt;dbl&gt;</th></tr>\n",
       "</thead>\n",
       "<tbody>\n",
       "\t<tr><td>20210307</td><td>AK</td><td>  59332</td><td> 18300</td><td>  1499</td><td>     NA</td><td>  2447</td><td>12238</td><td> 1508</td><td> 4453</td><td>...</td><td>     NA</td><td>     NA</td><td>   NA</td><td>    NA</td><td>   NA</td><td>     NA</td><td>      NA</td><td>     NA</td><td>      NA</td><td>      NA</td></tr>\n",
       "\t<tr><td>20210307</td><td>AL</td><td> 499819</td><td>160347</td><td> 82790</td><td>     NA</td><td>  2273</td><td>   NA</td><td>   NA</td><td>   NA</td><td>...</td><td>     NA</td><td>     NA</td><td>   NA</td><td>    NA</td><td>   NA</td><td>     NA</td><td>      NA</td><td>     NA</td><td>      NA</td><td>      NA</td></tr>\n",
       "\t<tr><td>20210307</td><td>AR</td><td> 324818</td><td>207596</td><td> 50842</td><td>     NA</td><td>  2913</td><td> 1070</td><td> 3358</td><td> 1804</td><td>...</td><td>     NA</td><td>     NA</td><td>   NA</td><td>    NA</td><td>   NA</td><td>     NA</td><td>      NA</td><td>     NA</td><td>      NA</td><td>      NA</td></tr>\n",
       "\t<tr><td>20210307</td><td>AS</td><td>     NA</td><td>    NA</td><td>    NA</td><td>     NA</td><td>    NA</td><td>   NA</td><td>   NA</td><td>   NA</td><td>...</td><td>     NA</td><td>     NA</td><td>   NA</td><td>    NA</td><td>   NA</td><td>     NA</td><td>      NA</td><td>     NA</td><td>      NA</td><td>      NA</td></tr>\n",
       "\t<tr><td>20210307</td><td>AZ</td><td> 826454</td><td>308453</td><td> 25775</td><td> 244539</td><td> 11921</td><td>40707</td><td>   NA</td><td>   NA</td><td>...</td><td>     NA</td><td>     NA</td><td>   NA</td><td>    NA</td><td>   NA</td><td>     NA</td><td>      NA</td><td>     NA</td><td>      NA</td><td>      NA</td></tr>\n",
       "\t<tr><td>20210307</td><td>CA</td><td>3501394</td><td>546630</td><td>111279</td><td>1509103</td><td>186562</td><td> 9025</td><td>15281</td><td>42824</td><td>...</td><td>9444459</td><td>3980518</td><td>98894</td><td>222513</td><td>74171</td><td>6354689</td><td>18567612</td><td>9444459</td><td>21633943</td><td>18567612</td></tr>\n",
       "</tbody>\n",
       "</table>\n"
      ],
      "text/latex": [
       "A tibble: 6 × 54\n",
       "\\begin{tabular}{lllllllllllllllllllll}\n",
       " Date & State & Cases\\_Total & Cases\\_White & Cases\\_Black & Cases\\_Latinx & Cases\\_Asian & Cases\\_AIAN & Cases\\_NHPI & Cases\\_Multiracial & ... & Tests\\_Latinx & Tests\\_Asian & Tests\\_AIAN & Tests\\_NHPI & Tests\\_Multiracial & Tests\\_Other & Tests\\_Unknown & Tests\\_Ethnicity\\_Hispanic & Tests\\_Ethnicity\\_NonHispanic & Tests\\_Ethnicity\\_Unknown\\\\\n",
       " <dbl> & <chr> & <dbl> & <dbl> & <dbl> & <dbl> & <dbl> & <dbl> & <dbl> & <dbl> & ... & <dbl> & <dbl> & <dbl> & <dbl> & <dbl> & <dbl> & <dbl> & <dbl> & <dbl> & <dbl>\\\\\n",
       "\\hline\n",
       "\t 20210307 & AK &   59332 &  18300 &   1499 &      NA &   2447 & 12238 &  1508 &  4453 & ... &      NA &      NA &    NA &     NA &    NA &      NA &       NA &      NA &       NA &       NA\\\\\n",
       "\t 20210307 & AL &  499819 & 160347 &  82790 &      NA &   2273 &    NA &    NA &    NA & ... &      NA &      NA &    NA &     NA &    NA &      NA &       NA &      NA &       NA &       NA\\\\\n",
       "\t 20210307 & AR &  324818 & 207596 &  50842 &      NA &   2913 &  1070 &  3358 &  1804 & ... &      NA &      NA &    NA &     NA &    NA &      NA &       NA &      NA &       NA &       NA\\\\\n",
       "\t 20210307 & AS &      NA &     NA &     NA &      NA &     NA &    NA &    NA &    NA & ... &      NA &      NA &    NA &     NA &    NA &      NA &       NA &      NA &       NA &       NA\\\\\n",
       "\t 20210307 & AZ &  826454 & 308453 &  25775 &  244539 &  11921 & 40707 &    NA &    NA & ... &      NA &      NA &    NA &     NA &    NA &      NA &       NA &      NA &       NA &       NA\\\\\n",
       "\t 20210307 & CA & 3501394 & 546630 & 111279 & 1509103 & 186562 &  9025 & 15281 & 42824 & ... & 9444459 & 3980518 & 98894 & 222513 & 74171 & 6354689 & 18567612 & 9444459 & 21633943 & 18567612\\\\\n",
       "\\end{tabular}\n"
      ],
      "text/markdown": [
       "\n",
       "A tibble: 6 × 54\n",
       "\n",
       "| Date &lt;dbl&gt; | State &lt;chr&gt; | Cases_Total &lt;dbl&gt; | Cases_White &lt;dbl&gt; | Cases_Black &lt;dbl&gt; | Cases_Latinx &lt;dbl&gt; | Cases_Asian &lt;dbl&gt; | Cases_AIAN &lt;dbl&gt; | Cases_NHPI &lt;dbl&gt; | Cases_Multiracial &lt;dbl&gt; | ... ... | Tests_Latinx &lt;dbl&gt; | Tests_Asian &lt;dbl&gt; | Tests_AIAN &lt;dbl&gt; | Tests_NHPI &lt;dbl&gt; | Tests_Multiracial &lt;dbl&gt; | Tests_Other &lt;dbl&gt; | Tests_Unknown &lt;dbl&gt; | Tests_Ethnicity_Hispanic &lt;dbl&gt; | Tests_Ethnicity_NonHispanic &lt;dbl&gt; | Tests_Ethnicity_Unknown &lt;dbl&gt; |\n",
       "|---|---|---|---|---|---|---|---|---|---|---|---|---|---|---|---|---|---|---|---|---|\n",
       "| 20210307 | AK |   59332 |  18300 |   1499 |      NA |   2447 | 12238 |  1508 |  4453 | ... |      NA |      NA |    NA |     NA |    NA |      NA |       NA |      NA |       NA |       NA |\n",
       "| 20210307 | AL |  499819 | 160347 |  82790 |      NA |   2273 |    NA |    NA |    NA | ... |      NA |      NA |    NA |     NA |    NA |      NA |       NA |      NA |       NA |       NA |\n",
       "| 20210307 | AR |  324818 | 207596 |  50842 |      NA |   2913 |  1070 |  3358 |  1804 | ... |      NA |      NA |    NA |     NA |    NA |      NA |       NA |      NA |       NA |       NA |\n",
       "| 20210307 | AS |      NA |     NA |     NA |      NA |     NA |    NA |    NA |    NA | ... |      NA |      NA |    NA |     NA |    NA |      NA |       NA |      NA |       NA |       NA |\n",
       "| 20210307 | AZ |  826454 | 308453 |  25775 |  244539 |  11921 | 40707 |    NA |    NA | ... |      NA |      NA |    NA |     NA |    NA |      NA |       NA |      NA |       NA |       NA |\n",
       "| 20210307 | CA | 3501394 | 546630 | 111279 | 1509103 | 186562 |  9025 | 15281 | 42824 | ... | 9444459 | 3980518 | 98894 | 222513 | 74171 | 6354689 | 18567612 | 9444459 | 21633943 | 18567612 |\n",
       "\n"
      ],
      "text/plain": [
       "  Date     State Cases_Total Cases_White Cases_Black Cases_Latinx Cases_Asian\n",
       "1 20210307 AK      59332      18300        1499           NA        2447     \n",
       "2 20210307 AL     499819     160347       82790           NA        2273     \n",
       "3 20210307 AR     324818     207596       50842           NA        2913     \n",
       "4 20210307 AS         NA         NA          NA           NA          NA     \n",
       "5 20210307 AZ     826454     308453       25775       244539       11921     \n",
       "6 20210307 CA    3501394     546630      111279      1509103      186562     \n",
       "  Cases_AIAN Cases_NHPI Cases_Multiracial ... Tests_Latinx Tests_Asian\n",
       "1 12238       1508       4453             ...      NA           NA    \n",
       "2    NA         NA         NA             ...      NA           NA    \n",
       "3  1070       3358       1804             ...      NA           NA    \n",
       "4    NA         NA         NA             ...      NA           NA    \n",
       "5 40707         NA         NA             ...      NA           NA    \n",
       "6  9025      15281      42824             ... 9444459      3980518    \n",
       "  Tests_AIAN Tests_NHPI Tests_Multiracial Tests_Other Tests_Unknown\n",
       "1    NA          NA        NA                  NA           NA     \n",
       "2    NA          NA        NA                  NA           NA     \n",
       "3    NA          NA        NA                  NA           NA     \n",
       "4    NA          NA        NA                  NA           NA     \n",
       "5    NA          NA        NA                  NA           NA     \n",
       "6 98894      222513     74171             6354689     18567612     \n",
       "  Tests_Ethnicity_Hispanic Tests_Ethnicity_NonHispanic Tests_Ethnicity_Unknown\n",
       "1      NA                        NA                          NA               \n",
       "2      NA                        NA                          NA               \n",
       "3      NA                        NA                          NA               \n",
       "4      NA                        NA                          NA               \n",
       "5      NA                        NA                          NA               \n",
       "6 9444459                  21633943                    18567612               "
      ]
     },
     "metadata": {},
     "output_type": "display_data"
    }
   ],
   "source": [
    "df <- read_csv(\"../data/crdt-data.csv\")\n",
    "cat(\"The dimenstion of this dataframe is: \", dim(df)[1], \"x\", dim(df)[2])\n",
    "head(df)"
   ]
  },
  {
   "cell_type": "markdown",
   "id": "09e11b26-46ed-40b2-a783-c8c571f74808",
   "metadata": {
    "jp-MarkdownHeadingCollapsed": true,
    "tags": []
   },
   "source": [
    "After reading data, we noticed that this raw data is consists of 5320 observations (rows) and 54 variables (columns), whereas there exist many NA values. This suggests that we need to clean and wrangle it into a tidier data to work with, plus, selecting our interest variables. We are interested in estimating proportions of tested positive among selected ethnicities, and categorize them by `Date`, `State`. Hence, we will only keep the following variables:\n",
    "\n",
    "`Cases_Total`, `Cases_White`, `Cases_Black`, `Cases_Latinx`, `Cases_Asian`, `Date`,`State`. \n",
    "<br>\n",
    "</br>\n",
    "And for the simplicity of this project, we will assume these data were Missing Completely At Random (MCAR), therefore dropping all NA values. \n"
   ]
  },
  {
   "cell_type": "markdown",
   "id": "cf1d7b7b",
   "metadata": {},
   "source": [
    "### 2.2 Clean and wrangle data into a tidy format"
   ]
  },
  {
   "cell_type": "code",
   "execution_count": 30,
   "id": "d3309246",
   "metadata": {},
   "outputs": [
    {
     "data": {
      "text/html": [
       "<table class=\"dataframe\">\n",
       "<caption>A tibble: 6 × 7</caption>\n",
       "<thead>\n",
       "\t<tr><th scope=col>Date</th><th scope=col>State</th><th scope=col>Cases_Total</th><th scope=col>Cases_White</th><th scope=col>Cases_Black</th><th scope=col>Cases_Latinx</th><th scope=col>Cases_Asian</th></tr>\n",
       "\t<tr><th scope=col>&lt;dbl&gt;</th><th scope=col>&lt;chr&gt;</th><th scope=col>&lt;dbl&gt;</th><th scope=col>&lt;dbl&gt;</th><th scope=col>&lt;dbl&gt;</th><th scope=col>&lt;dbl&gt;</th><th scope=col>&lt;dbl&gt;</th></tr>\n",
       "</thead>\n",
       "<tbody>\n",
       "\t<tr><td>20210307</td><td>AZ</td><td> 826454</td><td>308453</td><td> 25775</td><td> 244539</td><td> 11921</td></tr>\n",
       "\t<tr><td>20210307</td><td>CA</td><td>3501394</td><td>546630</td><td>111279</td><td>1509103</td><td>186562</td></tr>\n",
       "\t<tr><td>20210307</td><td>CO</td><td> 435762</td><td>181669</td><td> 12637</td><td> 119224</td><td>  6406</td></tr>\n",
       "\t<tr><td>20210307</td><td>CT</td><td> 285330</td><td> 85469</td><td> 19651</td><td>  41523</td><td>  3019</td></tr>\n",
       "\t<tr><td>20210307</td><td>DE</td><td>  88354</td><td> 42730</td><td> 19768</td><td>  14532</td><td>  1842</td></tr>\n",
       "\t<tr><td>20210307</td><td>GA</td><td>1023487</td><td>319208</td><td>216068</td><td>  85460</td><td> 17888</td></tr>\n",
       "</tbody>\n",
       "</table>\n"
      ],
      "text/latex": [
       "A tibble: 6 × 7\n",
       "\\begin{tabular}{lllllll}\n",
       " Date & State & Cases\\_Total & Cases\\_White & Cases\\_Black & Cases\\_Latinx & Cases\\_Asian\\\\\n",
       " <dbl> & <chr> & <dbl> & <dbl> & <dbl> & <dbl> & <dbl>\\\\\n",
       "\\hline\n",
       "\t 20210307 & AZ &  826454 & 308453 &  25775 &  244539 &  11921\\\\\n",
       "\t 20210307 & CA & 3501394 & 546630 & 111279 & 1509103 & 186562\\\\\n",
       "\t 20210307 & CO &  435762 & 181669 &  12637 &  119224 &   6406\\\\\n",
       "\t 20210307 & CT &  285330 &  85469 &  19651 &   41523 &   3019\\\\\n",
       "\t 20210307 & DE &   88354 &  42730 &  19768 &   14532 &   1842\\\\\n",
       "\t 20210307 & GA & 1023487 & 319208 & 216068 &   85460 &  17888\\\\\n",
       "\\end{tabular}\n"
      ],
      "text/markdown": [
       "\n",
       "A tibble: 6 × 7\n",
       "\n",
       "| Date &lt;dbl&gt; | State &lt;chr&gt; | Cases_Total &lt;dbl&gt; | Cases_White &lt;dbl&gt; | Cases_Black &lt;dbl&gt; | Cases_Latinx &lt;dbl&gt; | Cases_Asian &lt;dbl&gt; |\n",
       "|---|---|---|---|---|---|---|\n",
       "| 20210307 | AZ |  826454 | 308453 |  25775 |  244539 |  11921 |\n",
       "| 20210307 | CA | 3501394 | 546630 | 111279 | 1509103 | 186562 |\n",
       "| 20210307 | CO |  435762 | 181669 |  12637 |  119224 |   6406 |\n",
       "| 20210307 | CT |  285330 |  85469 |  19651 |   41523 |   3019 |\n",
       "| 20210307 | DE |   88354 |  42730 |  19768 |   14532 |   1842 |\n",
       "| 20210307 | GA | 1023487 | 319208 | 216068 |   85460 |  17888 |\n",
       "\n"
      ],
      "text/plain": [
       "  Date     State Cases_Total Cases_White Cases_Black Cases_Latinx Cases_Asian\n",
       "1 20210307 AZ     826454     308453       25775       244539       11921     \n",
       "2 20210307 CA    3501394     546630      111279      1509103      186562     \n",
       "3 20210307 CO     435762     181669       12637       119224        6406     \n",
       "4 20210307 CT     285330      85469       19651        41523        3019     \n",
       "5 20210307 DE      88354      42730       19768        14532        1842     \n",
       "6 20210307 GA    1023487     319208      216068        85460       17888     "
      ]
     },
     "metadata": {},
     "output_type": "display_data"
    },
    {
     "name": "stdout",
     "output_type": "stream",
     "text": [
      "The dimenstion of cases_piped is:  1941 x 7"
     ]
    }
   ],
   "source": [
    "cases_piped <- df %>%\n",
    "    select(Date, State, Cases_Total:Cases_Asian) %>%\n",
    "    drop_na()\n",
    "head(cases_piped)\n",
    "cat(\"The dimenstion of cases_piped is: \", \n",
    "    dim(cases_piped)[1], \"x\", dim(cases_piped)[2])"
   ]
  },
  {
   "cell_type": "markdown",
   "id": "4b096ab2-0948-4958-82b5-a99665a6b62b",
   "metadata": {},
   "source": [
    "After selecting only those interested variables (mentioned above) and dropping the NA values, we noticed the data is still bit large and unorganized, plus, `Date` is shown in YYYYMMDD, and we still don't know the total states we have. Hence, we will separate this `Date` column into `Year`, `Month`, `Day` and read for unique states in `State`."
   ]
  },
  {
   "cell_type": "code",
   "execution_count": 56,
   "id": "df295a6a",
   "metadata": {
    "tags": []
   },
   "outputs": [
    {
     "data": {
      "text/html": [
       "<style>\n",
       ".list-inline {list-style: none; margin:0; padding: 0}\n",
       ".list-inline>li {display: inline-block}\n",
       ".list-inline>li:not(:last-child)::after {content: \"\\00b7\"; padding: 0 .5ex}\n",
       "</style>\n",
       "<ol class=list-inline><li>'AZ'</li><li>'CA'</li><li>'CO'</li><li>'CT'</li><li>'DE'</li><li>'GA'</li><li>'IL'</li><li>'MA'</li><li>'MD'</li><li>'MN'</li><li>'MS'</li><li>'NH'</li><li>'NJ'</li><li>'NM'</li><li>'NV'</li><li>'RI'</li><li>'SC'</li><li>'SD'</li><li>'TX'</li><li>'UT'</li><li>'VA'</li><li>'WA'</li><li>'WY'</li></ol>\n"
      ],
      "text/latex": [
       "\\begin{enumerate*}\n",
       "\\item 'AZ'\n",
       "\\item 'CA'\n",
       "\\item 'CO'\n",
       "\\item 'CT'\n",
       "\\item 'DE'\n",
       "\\item 'GA'\n",
       "\\item 'IL'\n",
       "\\item 'MA'\n",
       "\\item 'MD'\n",
       "\\item 'MN'\n",
       "\\item 'MS'\n",
       "\\item 'NH'\n",
       "\\item 'NJ'\n",
       "\\item 'NM'\n",
       "\\item 'NV'\n",
       "\\item 'RI'\n",
       "\\item 'SC'\n",
       "\\item 'SD'\n",
       "\\item 'TX'\n",
       "\\item 'UT'\n",
       "\\item 'VA'\n",
       "\\item 'WA'\n",
       "\\item 'WY'\n",
       "\\end{enumerate*}\n"
      ],
      "text/markdown": [
       "1. 'AZ'\n",
       "2. 'CA'\n",
       "3. 'CO'\n",
       "4. 'CT'\n",
       "5. 'DE'\n",
       "6. 'GA'\n",
       "7. 'IL'\n",
       "8. 'MA'\n",
       "9. 'MD'\n",
       "10. 'MN'\n",
       "11. 'MS'\n",
       "12. 'NH'\n",
       "13. 'NJ'\n",
       "14. 'NM'\n",
       "15. 'NV'\n",
       "16. 'RI'\n",
       "17. 'SC'\n",
       "18. 'SD'\n",
       "19. 'TX'\n",
       "20. 'UT'\n",
       "21. 'VA'\n",
       "22. 'WA'\n",
       "23. 'WY'\n",
       "\n",
       "\n"
      ],
      "text/plain": [
       " [1] \"AZ\" \"CA\" \"CO\" \"CT\" \"DE\" \"GA\" \"IL\" \"MA\" \"MD\" \"MN\" \"MS\" \"NH\" \"NJ\" \"NM\" \"NV\"\n",
       "[16] \"RI\" \"SC\" \"SD\" \"TX\" \"UT\" \"VA\" \"WA\" \"WY\""
      ]
     },
     "metadata": {},
     "output_type": "display_data"
    },
    {
     "data": {
      "text/html": [
       "<table class=\"dataframe\">\n",
       "<caption>A tibble: 2 × 1</caption>\n",
       "<thead>\n",
       "\t<tr><th scope=col>Year</th></tr>\n",
       "\t<tr><th scope=col>&lt;dbl&gt;</th></tr>\n",
       "</thead>\n",
       "<tbody>\n",
       "\t<tr><td>2021</td></tr>\n",
       "\t<tr><td>2020</td></tr>\n",
       "</tbody>\n",
       "</table>\n"
      ],
      "text/latex": [
       "A tibble: 2 × 1\n",
       "\\begin{tabular}{l}\n",
       " Year\\\\\n",
       " <dbl>\\\\\n",
       "\\hline\n",
       "\t 2021\\\\\n",
       "\t 2020\\\\\n",
       "\\end{tabular}\n"
      ],
      "text/markdown": [
       "\n",
       "A tibble: 2 × 1\n",
       "\n",
       "| Year &lt;dbl&gt; |\n",
       "|---|\n",
       "| 2021 |\n",
       "| 2020 |\n",
       "\n"
      ],
      "text/plain": [
       "  Year\n",
       "1 2021\n",
       "2 2020"
      ]
     },
     "metadata": {},
     "output_type": "display_data"
    }
   ],
   "source": [
    "cases_piped2 <- cases_piped %>%\n",
    "           mutate(Date = lubridate::ymd(Date),\n",
    "                  Year = lubridate::year(Date),\n",
    "                  Month = lubridate::month(Date),\n",
    "                  Day = lubridate::day(Date)) %>%\n",
    "           select(-Date)\n",
    "\n",
    "states <- as.factor(cases_piped2$State) %>%\n",
    "          levels()\n",
    "\n",
    "years <- cases_piped2 %>%\n",
    "         select(Year) %>%\n",
    "         unique()\n",
    "\n",
    "states\n",
    "years"
   ]
  },
  {
   "cell_type": "markdown",
   "id": "20b0ffb3-83ef-40fb-8976-ff8afeec86c1",
   "metadata": {},
   "source": [
    "The data only contains `Year` of 2021 and 2020, and total of  23 states. Then, we will find only in `Year = 2021` , `State` whose occur most cases by adding them all together and assigned it to a dataframe called `max_cases`."
   ]
  },
  {
   "cell_type": "code",
   "execution_count": 121,
   "id": "af549703-bf55-4d4e-9d9a-970f3cf04e80",
   "metadata": {
    "tags": []
   },
   "outputs": [
    {
     "data": {
      "text/html": [
       "<table class=\"dataframe\">\n",
       "<caption>A tibble: 22 × 2</caption>\n",
       "<thead>\n",
       "\t<tr><th scope=col>State</th><th scope=col>Cases</th></tr>\n",
       "\t<tr><th scope=col>&lt;chr&gt;</th><th scope=col>&lt;dbl&gt;</th></tr>\n",
       "</thead>\n",
       "<tbody>\n",
       "\t<tr><td>CA</td><td>59965176</td></tr>\n",
       "\t<tr><td>TX</td><td>44566324</td></tr>\n",
       "\t<tr><td>IL</td><td>21237113</td></tr>\n",
       "\t<tr><td>GA</td><td>14980746</td></tr>\n",
       "\t<tr><td>AZ</td><td>13994015</td></tr>\n",
       "\t<tr><td>NJ</td><td>13146347</td></tr>\n",
       "\t<tr><td>MA</td><td> 9801824</td></tr>\n",
       "\t<tr><td>VA</td><td> 9473434</td></tr>\n",
       "\t<tr><td>MN</td><td> 8766697</td></tr>\n",
       "\t<tr><td>CO</td><td> 7527986</td></tr>\n",
       "\t<tr><td>MD</td><td> 6641027</td></tr>\n",
       "\t<tr><td>UT</td><td> 6513547</td></tr>\n",
       "\t<tr><td>WA</td><td> 5886885</td></tr>\n",
       "\t<tr><td>NV</td><td> 5217311</td></tr>\n",
       "\t<tr><td>MS</td><td> 5140632</td></tr>\n",
       "\t<tr><td>CT</td><td> 4729625</td></tr>\n",
       "\t<tr><td>NM</td><td> 3127471</td></tr>\n",
       "\t<tr><td>RI</td><td> 2159652</td></tr>\n",
       "\t<tr><td>SD</td><td> 2054751</td></tr>\n",
       "\t<tr><td>DE</td><td> 1464643</td></tr>\n",
       "\t<tr><td>NH</td><td> 1231952</td></tr>\n",
       "\t<tr><td>WY</td><td>  975483</td></tr>\n",
       "</tbody>\n",
       "</table>\n"
      ],
      "text/latex": [
       "A tibble: 22 × 2\n",
       "\\begin{tabular}{ll}\n",
       " State & Cases\\\\\n",
       " <chr> & <dbl>\\\\\n",
       "\\hline\n",
       "\t CA & 59965176\\\\\n",
       "\t TX & 44566324\\\\\n",
       "\t IL & 21237113\\\\\n",
       "\t GA & 14980746\\\\\n",
       "\t AZ & 13994015\\\\\n",
       "\t NJ & 13146347\\\\\n",
       "\t MA &  9801824\\\\\n",
       "\t VA &  9473434\\\\\n",
       "\t MN &  8766697\\\\\n",
       "\t CO &  7527986\\\\\n",
       "\t MD &  6641027\\\\\n",
       "\t UT &  6513547\\\\\n",
       "\t WA &  5886885\\\\\n",
       "\t NV &  5217311\\\\\n",
       "\t MS &  5140632\\\\\n",
       "\t CT &  4729625\\\\\n",
       "\t NM &  3127471\\\\\n",
       "\t RI &  2159652\\\\\n",
       "\t SD &  2054751\\\\\n",
       "\t DE &  1464643\\\\\n",
       "\t NH &  1231952\\\\\n",
       "\t WY &   975483\\\\\n",
       "\\end{tabular}\n"
      ],
      "text/markdown": [
       "\n",
       "A tibble: 22 × 2\n",
       "\n",
       "| State &lt;chr&gt; | Cases &lt;dbl&gt; |\n",
       "|---|---|\n",
       "| CA | 59965176 |\n",
       "| TX | 44566324 |\n",
       "| IL | 21237113 |\n",
       "| GA | 14980746 |\n",
       "| AZ | 13994015 |\n",
       "| NJ | 13146347 |\n",
       "| MA |  9801824 |\n",
       "| VA |  9473434 |\n",
       "| MN |  8766697 |\n",
       "| CO |  7527986 |\n",
       "| MD |  6641027 |\n",
       "| UT |  6513547 |\n",
       "| WA |  5886885 |\n",
       "| NV |  5217311 |\n",
       "| MS |  5140632 |\n",
       "| CT |  4729625 |\n",
       "| NM |  3127471 |\n",
       "| RI |  2159652 |\n",
       "| SD |  2054751 |\n",
       "| DE |  1464643 |\n",
       "| NH |  1231952 |\n",
       "| WY |   975483 |\n",
       "\n"
      ],
      "text/plain": [
       "   State Cases   \n",
       "1  CA    59965176\n",
       "2  TX    44566324\n",
       "3  IL    21237113\n",
       "4  GA    14980746\n",
       "5  AZ    13994015\n",
       "6  NJ    13146347\n",
       "7  MA     9801824\n",
       "8  VA     9473434\n",
       "9  MN     8766697\n",
       "10 CO     7527986\n",
       "11 MD     6641027\n",
       "12 UT     6513547\n",
       "13 WA     5886885\n",
       "14 NV     5217311\n",
       "15 MS     5140632\n",
       "16 CT     4729625\n",
       "17 NM     3127471\n",
       "18 RI     2159652\n",
       "19 SD     2054751\n",
       "20 DE     1464643\n",
       "21 NH     1231952\n",
       "22 WY      975483"
      ]
     },
     "metadata": {},
     "output_type": "display_data"
    },
    {
     "data": {
      "image/png": "[encoded data removed]",
      "text/plain": [
       "plot without title"
      ]
     },
     "metadata": {
      "image/png": {
       "height": 480,
       "width": 1200
      }
     },
     "output_type": "display_data"
    }
   ],
   "source": [
    "options(repr.plot.width = 20, repr.plot.height = 8)\n",
    "max_cases <- cases_piped2 %>%\n",
    "           filter(Year == 2021) %>%\n",
    "           ungroup() %>%\n",
    "           select(-Year) %>%\n",
    "           group_by(State) %>%\n",
    "           summarize(Cases = sum(Cases_Total)) %>% arrange(desc(Cases))\n",
    "\n",
    "cases_plot <- ggplot(max_cases, aes(x = State, y = Cases)) + \n",
    "              geom_bar(stat = \"identity\") + \n",
    "              labs(title=\"State VS Total Positive Cases\") +\n",
    "              theme(text = element_text(size = 20))\n",
    "\n",
    "cases_plot\n",
    "\n",
    "max_cases"
   ]
  },
  {
   "cell_type": "code",
   "execution_count": null,
   "id": "307a75c1-ca9e-45e7-8903-eae2a293261c",
   "metadata": {},
   "outputs": [],
   "source": []
  },
  {
   "cell_type": "code",
   "execution_count": null,
   "id": "b2d4231c",
   "metadata": {},
   "outputs": [],
   "source": [
    "# Focus on twos states WA and \n",
    "# tidy_cdc <- Case_Death_Clean %>%\n",
    "#             filter(State == \"WA\") %>%\n",
    "#             summarize(p_white = sum(Cases_White) / sum(Cases_Total),\n",
    "#                      p_black = sum(Cases_Black) / sum(Cases_Total),\n",
    "#                      p_Asian = sum(Cases_Asian) / sum(Cases_Total),\n",
    "#                      p_latin = sum(Cases_Latinx) / sum(Cases_Total),\n",
    "#                      d_white = sum(Deaths_White) / sum(Deaths_Total),\n",
    "#                      d_black = sum(Deaths_Black) / sum(Deaths_Total),\n",
    "#                      d_Asian = sum(Deaths_Asian) / sum(Deaths_Total),\n",
    "#                      d_latin = sum(Deaths_Latinx) / sum(Deaths_Total))\n",
    "\n",
    "# tidy_cdc\n",
    "# Pivoting by deaths? \n",
    "\n",
    "# group by races? \n",
    "\n",
    "\n"
   ]
  },
  {
   "cell_type": "markdown",
   "id": "7baf157f",
   "metadata": {},
   "source": [
    "### 2.3 Plot the relevant raw data, tailoring your plot in a way that addresses your question."
   ]
  },
  {
   "cell_type": "code",
   "execution_count": null,
   "id": "eabcc800",
   "metadata": {},
   "outputs": [],
   "source": [
    "# Plotting raw data"
   ]
  },
  {
   "cell_type": "markdown",
   "id": "48e3ed67",
   "metadata": {},
   "source": [
    "### 2.4 Compute estimates \n",
    "\n",
    "*Compute estimates of the parameter you identified across your groups. Present this in a table. If relevant, include these estimates in your plot.*"
   ]
  },
  {
   "cell_type": "code",
   "execution_count": null,
   "id": "155913d0",
   "metadata": {},
   "outputs": [],
   "source": [
    "# Summary statistics "
   ]
  },
  {
   "cell_type": "markdown",
   "id": "9c6468f8",
   "metadata": {},
   "source": [
    "## 3. Methods: Plan"
   ]
  },
  {
   "cell_type": "markdown",
   "id": "c48cf8e2",
   "metadata": {},
   "source": [
    "### 3.1 What do you expect to find?\n",
    "\n",
    "Text"
   ]
  },
  {
   "cell_type": "markdown",
   "id": "a78566cf",
   "metadata": {},
   "source": [
    "### 3.2 What impact could such findings have?\n",
    "\n",
    "Text"
   ]
  },
  {
   "cell_type": "markdown",
   "id": "31f684df",
   "metadata": {},
   "source": [
    "### 3.3 What future questions could this lead to?\n",
    "\n",
    "Text"
   ]
  },
  {
   "cell_type": "markdown",
   "id": "bbdb4ac2",
   "metadata": {},
   "source": [
    "## 4. Reference\n"
   ]
  },
  {
   "cell_type": "markdown",
   "id": "9745d4b3",
   "metadata": {},
   "source": [
    "About the Racial Data Tracker\n",
    "https://covidtracking.com/race/about"
   ]
  }
 ],
 "metadata": {
  "kernelspec": {
   "display_name": "R",
   "language": "R",
   "name": "ir"
  },
  "language_info": {
   "codemirror_mode": "r",
   "file_extension": ".r",
   "mimetype": "text/x-r-source",
   "name": "R",
   "pygments_lexer": "r",
   "version": "4.1.2"
  }
 },
 "nbformat": 4,
 "nbformat_minor": 5
}

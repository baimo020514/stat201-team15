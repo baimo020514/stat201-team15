{
 "cells": [
  {
   "cell_type": "markdown",
   "id": "18cab602",
   "metadata": {},
   "source": [
    "# Title"
   ]
  },
  {
   "cell_type": "markdown",
   "id": "674efcff",
   "metadata": {},
   "source": [
    "## 1. Introduction\n",
    "\n",
    "### Below are just instructions to be deleted after finish\n",
    "*Begin by providing some relevant background information on the topic so that someone unfamiliar with it will be prepared to understand the rest of your proposal.*\n",
    "\n",
    "*Clearly state the question you will try to answer with your project. Your question should involve one or more random variables of interest, spread across two or more categories that are interesting to compare. For example, you could consider the annual maxima river flow at two different locations along a river, or perhaps gender diversity at different universities. Of the response variable, identify one location parameter (mean, median, quantile, etc.) and one scale parameter (standard deviation, inter-quartile range, etc.) that would be useful in answering your question. Justify your choices.*\n",
    "\n",
    "*Identify and describe the dataset that will be used to answer the question. Remember, this dataset is allowed to contain more variables than you need – feel free to drop them!*\n",
    "\n",
    "*Also, be sure to frame your question/objectives in terms of what is already known in the literature. Be sure to include at least two scientific publications that can help frame your study (you will need to include these in the References section). We have no specific citation style requirements, but be consistent.*"
   ]
  },
  {
   "cell_type": "markdown",
   "id": "c3cc7cb4",
   "metadata": {},
   "source": [
    "### 1.1 Background information on the topic\n",
    "\n",
    "Text"
   ]
  },
  {
   "cell_type": "markdown",
   "id": "78294f2c",
   "metadata": {},
   "source": [
    "### 1.2 The Question \n",
    "\n",
    "Text"
   ]
  },
  {
   "cell_type": "markdown",
   "id": "050a522a",
   "metadata": {},
   "source": [
    "### 1.3 The Dataset\n",
    "\n",
    "Text"
   ]
  },
  {
   "cell_type": "markdown",
   "id": "fc17db32",
   "metadata": {},
   "source": [
    "### 1.4 The Literature \n",
    "\n",
    "Text"
   ]
  },
  {
   "cell_type": "markdown",
   "id": "ab5d8776",
   "metadata": {},
   "source": [
    "## 2. Preliminary Results"
   ]
  },
  {
   "cell_type": "markdown",
   "id": "d30e73cd",
   "metadata": {},
   "source": [
    "### 2.0 Libraries and Packages"
   ]
  },
  {
   "cell_type": "code",
   "execution_count": 1,
   "id": "ec18db19-c1ca-4eed-b7b9-8bd91873cdec",
   "metadata": {},
   "outputs": [
    {
     "name": "stderr",
     "output_type": "stream",
     "text": [
      "Installing package into 'C:/Users/chunq/R/win-library/4.1'\n",
      "(as 'lib' is unspecified)\n",
      "\n"
     ]
    },
    {
     "name": "stdout",
     "output_type": "stream",
     "text": [
      "package 'lubridate' successfully unpacked and MD5 sums checked\n"
     ]
    },
    {
     "name": "stderr",
     "output_type": "stream",
     "text": [
      "Warning message:\n",
      "\"cannot remove prior installation of package 'lubridate'\"\n",
      "Warning message in file.copy(savedcopy, lib, recursive = TRUE):\n",
      "\"problem copying C:\\Users\\chunq\\R\\win-library\\4.1\\00LOCK\\lubridate\\libs\\x64\\lubridate.dll to C:\\Users\\chunq\\R\\win-library\\4.1\\lubridate\\libs\\x64\\lubridate.dll: Permission denied\"\n",
      "Warning message:\n",
      "\"restored 'lubridate'\"\n"
     ]
    },
    {
     "name": "stdout",
     "output_type": "stream",
     "text": [
      "\n",
      "The downloaded binary packages are in\n",
      "\tC:\\Users\\chunq\\AppData\\Local\\Temp\\RtmpCYRaZS\\downloaded_packages\n"
     ]
    }
   ],
   "source": [
    "install.packages(\"lubridate\")"
   ]
  },
  {
   "cell_type": "code",
   "execution_count": 2,
   "id": "2d53d3cc",
   "metadata": {},
   "outputs": [
    {
     "name": "stderr",
     "output_type": "stream",
     "text": [
      "-- \u001b[1mAttaching packages\u001b[22m ------------------------------------------------------------------------------- tidyverse 1.3.1 --\n",
      "\n",
      "\u001b[32mv\u001b[39m \u001b[34mggplot2\u001b[39m 3.3.5     \u001b[32mv\u001b[39m \u001b[34mpurrr  \u001b[39m 0.3.4\n",
      "\u001b[32mv\u001b[39m \u001b[34mtibble \u001b[39m 3.1.6     \u001b[32mv\u001b[39m \u001b[34mdplyr  \u001b[39m 1.0.7\n",
      "\u001b[32mv\u001b[39m \u001b[34mtidyr  \u001b[39m 1.1.4     \u001b[32mv\u001b[39m \u001b[34mstringr\u001b[39m 1.4.0\n",
      "\u001b[32mv\u001b[39m \u001b[34mreadr  \u001b[39m 2.1.1     \u001b[32mv\u001b[39m \u001b[34mforcats\u001b[39m 0.5.1\n",
      "\n",
      "-- \u001b[1mConflicts\u001b[22m ---------------------------------------------------------------------------------- tidyverse_conflicts() --\n",
      "\u001b[31mx\u001b[39m \u001b[34mdplyr\u001b[39m::\u001b[32mfilter()\u001b[39m masks \u001b[34mstats\u001b[39m::filter()\n",
      "\u001b[31mx\u001b[39m \u001b[34mdplyr\u001b[39m::\u001b[32mlag()\u001b[39m    masks \u001b[34mstats\u001b[39m::lag()\n",
      "\n",
      "\n",
      "Attaching package: 'dbplyr'\n",
      "\n",
      "\n",
      "The following objects are masked from 'package:dplyr':\n",
      "\n",
      "    ident, sql\n",
      "\n",
      "\n",
      "\n",
      "Attaching package: 'lubridate'\n",
      "\n",
      "\n",
      "The following objects are masked from 'package:base':\n",
      "\n",
      "    date, intersect, setdiff, union\n",
      "\n",
      "\n"
     ]
    }
   ],
   "source": [
    "library(tidyverse)\n",
    "library(readr)\n",
    "library(tidyr)\n",
    "library(dbplyr)\n",
    "library(lubridate)"
   ]
  },
  {
   "cell_type": "markdown",
   "id": "9d204994",
   "metadata": {},
   "source": [
    "### 2.1 Read the data into R"
   ]
  },
  {
   "cell_type": "code",
   "execution_count": 5,
   "id": "589b743f",
   "metadata": {},
   "outputs": [
    {
     "name": "stderr",
     "output_type": "stream",
     "text": [
      "\u001b[1mRows: \u001b[22m\u001b[34m5320\u001b[39m \u001b[1mColumns: \u001b[22m\u001b[34m54\u001b[39m\n",
      "\n",
      "\u001b[36m--\u001b[39m \u001b[1mColumn specification\u001b[22m \u001b[36m------------------------------------------------------------------------------------------------\u001b[39m\n",
      "\u001b[1mDelimiter:\u001b[22m \",\"\n",
      "\u001b[31mchr\u001b[39m  (1): State\n",
      "\u001b[32mdbl\u001b[39m (53): Date, Cases_Total, Cases_White, Cases_Black, Cases_Latinx, Cases_A...\n",
      "\n",
      "\n",
      "\u001b[36mi\u001b[39m Use \u001b[30m\u001b[47m\u001b[30m\u001b[47m`spec()`\u001b[47m\u001b[30m\u001b[49m\u001b[39m to retrieve the full column specification for this data.\n",
      "\u001b[36mi\u001b[39m Specify the column types or set \u001b[30m\u001b[47m\u001b[30m\u001b[47m`show_col_types = FALSE`\u001b[47m\u001b[30m\u001b[49m\u001b[39m to quiet this message.\n",
      "\n"
     ]
    }
   ],
   "source": [
    "df <- read_csv(\"../data/crdt-data.csv\")\n"
   ]
  },
  {
   "cell_type": "code",
   "execution_count": null,
   "id": "21647cf6",
   "metadata": {},
   "outputs": [],
   "source": [
    "head(df)\n",
    "colnames(df)"
   ]
  },
  {
   "cell_type": "markdown",
   "id": "cf1d7b7b",
   "metadata": {},
   "source": [
    "### 2.2 Clean and wrangle data into a tidy format\n"
   ]
  },
  {
   "cell_type": "code",
   "execution_count": 6,
   "id": "d3309246",
   "metadata": {},
   "outputs": [
    {
     "name": "stdout",
     "output_type": "stream",
     "text": [
      "Rows: 5,320\n",
      "Columns: 12\n",
      "$ Date          \u001b[3m\u001b[90m<dbl>\u001b[39m\u001b[23m 20210307, 20210307, 20210307, 20210307, 20210307, 202103~\n",
      "$ State         \u001b[3m\u001b[90m<chr>\u001b[39m\u001b[23m \"AK\", \"AL\", \"AR\", \"AS\", \"AZ\", \"CA\", \"CO\", \"CT\", \"DC\", \"D~\n",
      "$ Cases_Total   \u001b[3m\u001b[90m<dbl>\u001b[39m\u001b[23m 59332, 499819, 324818, NA, 826454, 3501394, 435762, 2853~\n",
      "$ Cases_White   \u001b[3m\u001b[90m<dbl>\u001b[39m\u001b[23m 18300, 160347, 207596, NA, 308453, 546630, 181669, 85469~\n",
      "$ Cases_Black   \u001b[3m\u001b[90m<dbl>\u001b[39m\u001b[23m 1499, 82790, 50842, NA, 25775, 111279, 12637, 19651, 201~\n",
      "$ Cases_Latinx  \u001b[3m\u001b[90m<dbl>\u001b[39m\u001b[23m NA, NA, NA, NA, 244539, 1509103, 119224, 41523, NA, 1453~\n",
      "$ Cases_Asian   \u001b[3m\u001b[90m<dbl>\u001b[39m\u001b[23m 2447, 2273, 2913, NA, 11921, 186562, 6406, 3019, 914, 18~\n",
      "$ Deaths_Total  \u001b[3m\u001b[90m<dbl>\u001b[39m\u001b[23m 305, 10148, 5319, NA, 16328, 54124, 5986, 7704, 1030, 14~\n",
      "$ Deaths_White  \u001b[3m\u001b[90m<dbl>\u001b[39m\u001b[23m 127, 4730, 4171, NA, 8066, 16586, 3869, 5413, 105, 1036,~\n",
      "$ Deaths_Black  \u001b[3m\u001b[90m<dbl>\u001b[39m\u001b[23m 9, 2223, 784, NA, 433, 3275, 191, 906, 773, 329, 4812, 5~\n",
      "$ Deaths_Latinx \u001b[3m\u001b[90m<dbl>\u001b[39m\u001b[23m NA, NA, NA, NA, 4684, 24402, 1204, 782, 119, 80, 7325, 8~\n",
      "$ Deaths_Asian  \u001b[3m\u001b[90m<dbl>\u001b[39m\u001b[23m 29, 24, 36, NA, 220, 6105, 115, 83, 14, 11, NA, 298, 33,~\n"
     ]
    }
   ],
   "source": [
    "# Select the columns\n",
    "# Too many unuseful data, so only interested in Cases Total,\n",
    "# white ,black, latinx,asian and their deaths.\n",
    "case_death <- df %>%\n",
    "    #select(Cases_Total:Cases_Other, Deaths_Total:Deaths_Other,\n",
    "     #Hosp_Total:Hosp_Other)\n",
    "    select(Date, State, Cases_Total:Cases_Asian, Deaths_Total:Deaths_Asian)\n",
    "\n",
    "glimpse(case_death)"
   ]
  },
  {
   "cell_type": "markdown",
   "id": "dc17fbf8",
   "metadata": {},
   "source": [
    "#### Reasons to drop other columns \n",
    "\n",
    "We only interested in ethnicity of white, black,asian, and latinx:\n",
    "+ Cases_Unknown               \n",
    "+ Cases_Ethnicity_Hispanic    \n",
    "+ Cases_Ethnicity_NonHispanic \n",
    "+ Cases_Ethnicity_Unknown     \n",
    "\n",
    "Similarly, for\n",
    "\n",
    "+ Deaths_Unknown               \n",
    "+ Deaths_Ethnicity_Hispanic    \n",
    "+ Deaths_Ethnicity_NonHispanic \n",
    "+ Deaths_Ethnicity_Unknown \n",
    "+ Hosp_Unknown               \n",
    "+ Hosp_Ethnicity_Hispanic    \n",
    "+ Hosp_Ethnicity_NonHispanic \n",
    "+ Hosp_Ethnicity_Unknown\n",
    "\n"
   ]
  },
  {
   "cell_type": "code",
   "execution_count": null,
   "id": "df295a6a",
   "metadata": {},
   "outputs": [],
   "source": [
    "# Check unique states and decide on which twos to compare\n",
    "states <- as.factor(case_death$State)\n",
    "\n",
    "# Note: these include american territories outside of USA, so ignore those\n",
    "# And we are interested in states who`s have most cases\n",
    "n_states <- length(levels(states)) \n"
   ]
  },
  {
   "cell_type": "code",
   "execution_count": 53,
   "id": "af549703-bf55-4d4e-9d9a-970f3cf04e80",
   "metadata": {
    "tags": []
   },
   "outputs": [],
   "source": [
    "# Drop na values to get cleaner data to work with\n",
    "cd_clean <- case_death %>%\n",
    "             drop_na()\n",
    "             \n",
    "# Separate dates to get tidier, and focus on 2021\n",
    "tidy_cd <- cd_clean %>%\n",
    "           mutate(Date = lubridate::ymd(Date),\n",
    "                  year = lubridate::year(Date),\n",
    "                  month = lubridate::month(Date),\n",
    "                  day = lubridate::day(Date)) %>%\n",
    "           select(-Date) %>%\n",
    "           filter(year == 2021) %>%\n",
    "           select(-year) %>%\n",
    "           group_by(month, State) %>%\n",
    "           arrange(desc(Cases_Total))\n",
    "\n",
    "# Arrange the states by cases total in descendind order\n",
    "# to find out states with most cases, and exlucdin NAs\n",
    "          "
   ]
  },
  {
   "cell_type": "code",
   "execution_count": 77,
   "id": "62785d30-4558-43af-9e9e-4828631345b9",
   "metadata": {},
   "outputs": [
    {
     "data": {
      "text/html": [
       "<table class=\"dataframe\">\n",
       "<caption>A tibble: 38 × 11</caption>\n",
       "<thead>\n",
       "\t<tr><th scope=col>State</th><th scope=col>Cases_Total</th><th scope=col>Cases_White</th><th scope=col>Cases_Black</th><th scope=col>Cases_Latinx</th><th scope=col>Cases_Asian</th><th scope=col>Deaths_Total</th><th scope=col>Deaths_White</th><th scope=col>Deaths_Black</th><th scope=col>Deaths_Latinx</th><th scope=col>Deaths_Asian</th></tr>\n",
       "\t<tr><th scope=col>&lt;chr&gt;</th><th scope=col>&lt;dbl&gt;</th><th scope=col>&lt;dbl&gt;</th><th scope=col>&lt;dbl&gt;</th><th scope=col>&lt;dbl&gt;</th><th scope=col>&lt;dbl&gt;</th><th scope=col>&lt;dbl&gt;</th><th scope=col>&lt;dbl&gt;</th><th scope=col>&lt;dbl&gt;</th><th scope=col>&lt;dbl&gt;</th><th scope=col>&lt;dbl&gt;</th></tr>\n",
       "</thead>\n",
       "<tbody>\n",
       "\t<tr><td>CA</td><td>3243348</td><td>489390</td><td> 98959</td><td>1355776</td><td>164484</td><td>40697</td><td>12423</td><td>2516</td><td>17965</td><td>4532</td></tr>\n",
       "\t<tr><td>CA</td><td>3169914</td><td>475186</td><td> 96053</td><td>1317261</td><td>158576</td><td>38224</td><td>11664</td><td>2391</td><td>16822</td><td>4256</td></tr>\n",
       "\t<tr><td>CA</td><td>3109151</td><td>464301</td><td> 93817</td><td>1289848</td><td>154423</td><td>36790</td><td>11330</td><td>2333</td><td>16348</td><td>4126</td></tr>\n",
       "\t<tr><td>CA</td><td>3019371</td><td>448577</td><td> 90545</td><td>1245900</td><td>148487</td><td>34433</td><td>10530</td><td>2195</td><td>15240</td><td>3866</td></tr>\n",
       "\t<tr><td>CA</td><td>2942475</td><td>436083</td><td> 87689</td><td>1206977</td><td>143690</td><td>33392</td><td>10256</td><td>2147</td><td>14886</td><td>3790</td></tr>\n",
       "\t<tr><td>CA</td><td>2781039</td><td>409082</td><td> 82125</td><td>1133397</td><td>133241</td><td>31102</td><td> 9569</td><td>2016</td><td>14078</td><td>3535</td></tr>\n",
       "\t<tr><td>CA</td><td>2670962</td><td>391396</td><td> 78392</td><td>1078116</td><td>126414</td><td>29701</td><td> 9133</td><td>1934</td><td>13484</td><td>3349</td></tr>\n",
       "\t<tr><td>CA</td><td>2482226</td><td>360022</td><td> 72361</td><td> 990854</td><td>114864</td><td>27462</td><td> 8441</td><td>1833</td><td>12583</td><td>3109</td></tr>\n",
       "\t<tr><td>CA</td><td>2391261</td><td>319136</td><td>191572</td><td> 887580</td><td>100569</td><td>26538</td><td> 7679</td><td>1697</td><td>11575</td><td>2818</td></tr>\n",
       "\t<tr><td>TX</td><td>2360632</td><td> 22453</td><td> 11750</td><td>  26927</td><td>   920</td><td>36491</td><td>14709</td><td>3413</td><td>16964</td><td> 690</td></tr>\n",
       "\t<tr><td>TX</td><td>2292732</td><td> 21947</td><td> 11474</td><td>  26718</td><td>   914</td><td>35168</td><td>13544</td><td>3220</td><td>16092</td><td> 648</td></tr>\n",
       "\t<tr><td>TX</td><td>2240526</td><td> 21947</td><td> 11474</td><td>  26718</td><td>   914</td><td>34322</td><td>13544</td><td>3220</td><td>16092</td><td> 648</td></tr>\n",
       "\t<tr><td>TX</td><td>2166283</td><td> 21537</td><td> 11296</td><td>  26631</td><td>   913</td><td>32844</td><td>12344</td><td>3038</td><td>15286</td><td> 595</td></tr>\n",
       "\t<tr><td>TX</td><td>2113962</td><td> 21537</td><td> 11296</td><td>  26631</td><td>   913</td><td>32038</td><td>12344</td><td>3038</td><td>15286</td><td> 595</td></tr>\n",
       "\t<tr><td>TX</td><td>2022635</td><td> 21119</td><td> 11098</td><td>  26457</td><td>   908</td><td>30624</td><td>11226</td><td>2861</td><td>14500</td><td> 550</td></tr>\n",
       "\t<tr><td>TX</td><td>1954406</td><td> 21119</td><td> 11098</td><td>  26457</td><td>   908</td><td>29877</td><td>11226</td><td>2861</td><td>14500</td><td> 550</td></tr>\n",
       "\t<tr><td>TX</td><td>1867163</td><td> 20892</td><td> 11024</td><td>  26363</td><td>   907</td><td>28545</td><td>10395</td><td>2753</td><td>13956</td><td> 504</td></tr>\n",
       "\t<tr><td>TX</td><td>1793341</td><td> 20892</td><td>   342</td><td>  26363</td><td>   907</td><td>27917</td><td>10395</td><td>2753</td><td>13956</td><td> 504</td></tr>\n",
       "\t<tr><td>CA</td><td>3475562</td><td>539466</td><td>109591</td><td>1487225</td><td>183711</td><td>51979</td><td>16017</td><td>3161</td><td>23435</td><td>5875</td></tr>\n",
       "\t<tr><td>CA</td><td>3455361</td><td>534330</td><td>108479</td><td>1472040</td><td>181664</td><td>49877</td><td>15249</td><td>3004</td><td>22371</td><td>5590</td></tr>\n",
       "\t<tr><td>CA</td><td>3441946</td><td>530958</td><td>107741</td><td>1462751</td><td>180258</td><td>49105</td><td>15083</td><td>2972</td><td>22030</td><td>5504</td></tr>\n",
       "\t<tr><td>CA</td><td>3416147</td><td>524753</td><td>106400</td><td>1446427</td><td>177919</td><td>47507</td><td>14542</td><td>2876</td><td>21267</td><td>5309</td></tr>\n",
       "\t<tr><td>CA</td><td>3399878</td><td>521073</td><td>105625</td><td>1437235</td><td>176589</td><td>46843</td><td>14348</td><td>2857</td><td>20989</td><td>5241</td></tr>\n",
       "\t<tr><td>CA</td><td>3362981</td><td>513077</td><td>103870</td><td>1415893</td><td>173673</td><td>44995</td><td>13744</td><td>2749</td><td>20125</td><td>5009</td></tr>\n",
       "\t<tr><td>CA</td><td>3335926</td><td>507681</td><td>102703</td><td>1402958</td><td>171443</td><td>43942</td><td>13485</td><td>2677</td><td>19624</td><td>4894</td></tr>\n",
       "\t<tr><td>CA</td><td>3281271</td><td>496550</td><td>100486</td><td>1375197</td><td>167317</td><td>41811</td><td>12761</td><td>2571</td><td>18502</td><td>4643</td></tr>\n",
       "\t<tr><td>TX</td><td>2644024</td><td> 25415</td><td> 12626</td><td>  27662</td><td>   934</td><td>42936</td><td>17662</td><td>4074</td><td>19735</td><td> 858</td></tr>\n",
       "\t<tr><td>TX</td><td>2613792</td><td> 24275</td><td> 12369</td><td>  27435</td><td>   928</td><td>41980</td><td>16598</td><td>3816</td><td>18648</td><td> 800</td></tr>\n",
       "\t<tr><td>TX</td><td>2588101</td><td> 24275</td><td> 12369</td><td>  27435</td><td>   928</td><td>41343</td><td>16598</td><td>3816</td><td>18648</td><td> 800</td></tr>\n",
       "\t<tr><td>TX</td><td>2571063</td><td> 24275</td><td> 12369</td><td>  27435</td><td>   928</td><td>40717</td><td>16598</td><td>3816</td><td>18648</td><td> 800</td></tr>\n",
       "\t<tr><td>TX</td><td>2553127</td><td> 24275</td><td> 12369</td><td>  27435</td><td>   928</td><td>40378</td><td>16598</td><td>3816</td><td>18648</td><td> 800</td></tr>\n",
       "\t<tr><td>TX</td><td>2517453</td><td> 23170</td><td> 12018</td><td>  27129</td><td>   922</td><td>39386</td><td>15719</td><td>3629</td><td>17824</td><td> 735</td></tr>\n",
       "\t<tr><td>TX</td><td>2483742</td><td> 23170</td><td> 12018</td><td>  27129</td><td>   922</td><td>38643</td><td>15719</td><td>3629</td><td>17824</td><td> 735</td></tr>\n",
       "\t<tr><td>TX</td><td>2433110</td><td> 22453</td><td> 11750</td><td>  26927</td><td>   920</td><td>37288</td><td>14709</td><td>3413</td><td>16964</td><td> 690</td></tr>\n",
       "\t<tr><td>CA</td><td>3501394</td><td>546630</td><td>111279</td><td>1509103</td><td>186562</td><td>54124</td><td>16586</td><td>3275</td><td>24402</td><td>6105</td></tr>\n",
       "\t<tr><td>CA</td><td>3484963</td><td>541927</td><td>110115</td><td>1494376</td><td>184765</td><td>52775</td><td>16205</td><td>3209</td><td>23768</td><td>5958</td></tr>\n",
       "\t<tr><td>TX</td><td>2686818</td><td> 25581</td><td> 12672</td><td>  27728</td><td>   933</td><td>44451</td><td>18276</td><td>4252</td><td>20453</td><td> 898</td></tr>\n",
       "\t<tr><td>TX</td><td>2663414</td><td> 25415</td><td> 12626</td><td>  27662</td><td>   934</td><td>43563</td><td>17662</td><td>4074</td><td>19735</td><td> 858</td></tr>\n",
       "</tbody>\n",
       "</table>\n"
      ],
      "text/latex": [
       "A tibble: 38 × 11\n",
       "\\begin{tabular}{lllllllllll}\n",
       " State & Cases\\_Total & Cases\\_White & Cases\\_Black & Cases\\_Latinx & Cases\\_Asian & Deaths\\_Total & Deaths\\_White & Deaths\\_Black & Deaths\\_Latinx & Deaths\\_Asian\\\\\n",
       " <chr> & <dbl> & <dbl> & <dbl> & <dbl> & <dbl> & <dbl> & <dbl> & <dbl> & <dbl> & <dbl>\\\\\n",
       "\\hline\n",
       "\t CA & 3243348 & 489390 &  98959 & 1355776 & 164484 & 40697 & 12423 & 2516 & 17965 & 4532\\\\\n",
       "\t CA & 3169914 & 475186 &  96053 & 1317261 & 158576 & 38224 & 11664 & 2391 & 16822 & 4256\\\\\n",
       "\t CA & 3109151 & 464301 &  93817 & 1289848 & 154423 & 36790 & 11330 & 2333 & 16348 & 4126\\\\\n",
       "\t CA & 3019371 & 448577 &  90545 & 1245900 & 148487 & 34433 & 10530 & 2195 & 15240 & 3866\\\\\n",
       "\t CA & 2942475 & 436083 &  87689 & 1206977 & 143690 & 33392 & 10256 & 2147 & 14886 & 3790\\\\\n",
       "\t CA & 2781039 & 409082 &  82125 & 1133397 & 133241 & 31102 &  9569 & 2016 & 14078 & 3535\\\\\n",
       "\t CA & 2670962 & 391396 &  78392 & 1078116 & 126414 & 29701 &  9133 & 1934 & 13484 & 3349\\\\\n",
       "\t CA & 2482226 & 360022 &  72361 &  990854 & 114864 & 27462 &  8441 & 1833 & 12583 & 3109\\\\\n",
       "\t CA & 2391261 & 319136 & 191572 &  887580 & 100569 & 26538 &  7679 & 1697 & 11575 & 2818\\\\\n",
       "\t TX & 2360632 &  22453 &  11750 &   26927 &    920 & 36491 & 14709 & 3413 & 16964 &  690\\\\\n",
       "\t TX & 2292732 &  21947 &  11474 &   26718 &    914 & 35168 & 13544 & 3220 & 16092 &  648\\\\\n",
       "\t TX & 2240526 &  21947 &  11474 &   26718 &    914 & 34322 & 13544 & 3220 & 16092 &  648\\\\\n",
       "\t TX & 2166283 &  21537 &  11296 &   26631 &    913 & 32844 & 12344 & 3038 & 15286 &  595\\\\\n",
       "\t TX & 2113962 &  21537 &  11296 &   26631 &    913 & 32038 & 12344 & 3038 & 15286 &  595\\\\\n",
       "\t TX & 2022635 &  21119 &  11098 &   26457 &    908 & 30624 & 11226 & 2861 & 14500 &  550\\\\\n",
       "\t TX & 1954406 &  21119 &  11098 &   26457 &    908 & 29877 & 11226 & 2861 & 14500 &  550\\\\\n",
       "\t TX & 1867163 &  20892 &  11024 &   26363 &    907 & 28545 & 10395 & 2753 & 13956 &  504\\\\\n",
       "\t TX & 1793341 &  20892 &    342 &   26363 &    907 & 27917 & 10395 & 2753 & 13956 &  504\\\\\n",
       "\t CA & 3475562 & 539466 & 109591 & 1487225 & 183711 & 51979 & 16017 & 3161 & 23435 & 5875\\\\\n",
       "\t CA & 3455361 & 534330 & 108479 & 1472040 & 181664 & 49877 & 15249 & 3004 & 22371 & 5590\\\\\n",
       "\t CA & 3441946 & 530958 & 107741 & 1462751 & 180258 & 49105 & 15083 & 2972 & 22030 & 5504\\\\\n",
       "\t CA & 3416147 & 524753 & 106400 & 1446427 & 177919 & 47507 & 14542 & 2876 & 21267 & 5309\\\\\n",
       "\t CA & 3399878 & 521073 & 105625 & 1437235 & 176589 & 46843 & 14348 & 2857 & 20989 & 5241\\\\\n",
       "\t CA & 3362981 & 513077 & 103870 & 1415893 & 173673 & 44995 & 13744 & 2749 & 20125 & 5009\\\\\n",
       "\t CA & 3335926 & 507681 & 102703 & 1402958 & 171443 & 43942 & 13485 & 2677 & 19624 & 4894\\\\\n",
       "\t CA & 3281271 & 496550 & 100486 & 1375197 & 167317 & 41811 & 12761 & 2571 & 18502 & 4643\\\\\n",
       "\t TX & 2644024 &  25415 &  12626 &   27662 &    934 & 42936 & 17662 & 4074 & 19735 &  858\\\\\n",
       "\t TX & 2613792 &  24275 &  12369 &   27435 &    928 & 41980 & 16598 & 3816 & 18648 &  800\\\\\n",
       "\t TX & 2588101 &  24275 &  12369 &   27435 &    928 & 41343 & 16598 & 3816 & 18648 &  800\\\\\n",
       "\t TX & 2571063 &  24275 &  12369 &   27435 &    928 & 40717 & 16598 & 3816 & 18648 &  800\\\\\n",
       "\t TX & 2553127 &  24275 &  12369 &   27435 &    928 & 40378 & 16598 & 3816 & 18648 &  800\\\\\n",
       "\t TX & 2517453 &  23170 &  12018 &   27129 &    922 & 39386 & 15719 & 3629 & 17824 &  735\\\\\n",
       "\t TX & 2483742 &  23170 &  12018 &   27129 &    922 & 38643 & 15719 & 3629 & 17824 &  735\\\\\n",
       "\t TX & 2433110 &  22453 &  11750 &   26927 &    920 & 37288 & 14709 & 3413 & 16964 &  690\\\\\n",
       "\t CA & 3501394 & 546630 & 111279 & 1509103 & 186562 & 54124 & 16586 & 3275 & 24402 & 6105\\\\\n",
       "\t CA & 3484963 & 541927 & 110115 & 1494376 & 184765 & 52775 & 16205 & 3209 & 23768 & 5958\\\\\n",
       "\t TX & 2686818 &  25581 &  12672 &   27728 &    933 & 44451 & 18276 & 4252 & 20453 &  898\\\\\n",
       "\t TX & 2663414 &  25415 &  12626 &   27662 &    934 & 43563 & 17662 & 4074 & 19735 &  858\\\\\n",
       "\\end{tabular}\n"
      ],
      "text/markdown": [
       "\n",
       "A tibble: 38 × 11\n",
       "\n",
       "| State &lt;chr&gt; | Cases_Total &lt;dbl&gt; | Cases_White &lt;dbl&gt; | Cases_Black &lt;dbl&gt; | Cases_Latinx &lt;dbl&gt; | Cases_Asian &lt;dbl&gt; | Deaths_Total &lt;dbl&gt; | Deaths_White &lt;dbl&gt; | Deaths_Black &lt;dbl&gt; | Deaths_Latinx &lt;dbl&gt; | Deaths_Asian &lt;dbl&gt; |\n",
       "|---|---|---|---|---|---|---|---|---|---|---|\n",
       "| CA | 3243348 | 489390 |  98959 | 1355776 | 164484 | 40697 | 12423 | 2516 | 17965 | 4532 |\n",
       "| CA | 3169914 | 475186 |  96053 | 1317261 | 158576 | 38224 | 11664 | 2391 | 16822 | 4256 |\n",
       "| CA | 3109151 | 464301 |  93817 | 1289848 | 154423 | 36790 | 11330 | 2333 | 16348 | 4126 |\n",
       "| CA | 3019371 | 448577 |  90545 | 1245900 | 148487 | 34433 | 10530 | 2195 | 15240 | 3866 |\n",
       "| CA | 2942475 | 436083 |  87689 | 1206977 | 143690 | 33392 | 10256 | 2147 | 14886 | 3790 |\n",
       "| CA | 2781039 | 409082 |  82125 | 1133397 | 133241 | 31102 |  9569 | 2016 | 14078 | 3535 |\n",
       "| CA | 2670962 | 391396 |  78392 | 1078116 | 126414 | 29701 |  9133 | 1934 | 13484 | 3349 |\n",
       "| CA | 2482226 | 360022 |  72361 |  990854 | 114864 | 27462 |  8441 | 1833 | 12583 | 3109 |\n",
       "| CA | 2391261 | 319136 | 191572 |  887580 | 100569 | 26538 |  7679 | 1697 | 11575 | 2818 |\n",
       "| TX | 2360632 |  22453 |  11750 |   26927 |    920 | 36491 | 14709 | 3413 | 16964 |  690 |\n",
       "| TX | 2292732 |  21947 |  11474 |   26718 |    914 | 35168 | 13544 | 3220 | 16092 |  648 |\n",
       "| TX | 2240526 |  21947 |  11474 |   26718 |    914 | 34322 | 13544 | 3220 | 16092 |  648 |\n",
       "| TX | 2166283 |  21537 |  11296 |   26631 |    913 | 32844 | 12344 | 3038 | 15286 |  595 |\n",
       "| TX | 2113962 |  21537 |  11296 |   26631 |    913 | 32038 | 12344 | 3038 | 15286 |  595 |\n",
       "| TX | 2022635 |  21119 |  11098 |   26457 |    908 | 30624 | 11226 | 2861 | 14500 |  550 |\n",
       "| TX | 1954406 |  21119 |  11098 |   26457 |    908 | 29877 | 11226 | 2861 | 14500 |  550 |\n",
       "| TX | 1867163 |  20892 |  11024 |   26363 |    907 | 28545 | 10395 | 2753 | 13956 |  504 |\n",
       "| TX | 1793341 |  20892 |    342 |   26363 |    907 | 27917 | 10395 | 2753 | 13956 |  504 |\n",
       "| CA | 3475562 | 539466 | 109591 | 1487225 | 183711 | 51979 | 16017 | 3161 | 23435 | 5875 |\n",
       "| CA | 3455361 | 534330 | 108479 | 1472040 | 181664 | 49877 | 15249 | 3004 | 22371 | 5590 |\n",
       "| CA | 3441946 | 530958 | 107741 | 1462751 | 180258 | 49105 | 15083 | 2972 | 22030 | 5504 |\n",
       "| CA | 3416147 | 524753 | 106400 | 1446427 | 177919 | 47507 | 14542 | 2876 | 21267 | 5309 |\n",
       "| CA | 3399878 | 521073 | 105625 | 1437235 | 176589 | 46843 | 14348 | 2857 | 20989 | 5241 |\n",
       "| CA | 3362981 | 513077 | 103870 | 1415893 | 173673 | 44995 | 13744 | 2749 | 20125 | 5009 |\n",
       "| CA | 3335926 | 507681 | 102703 | 1402958 | 171443 | 43942 | 13485 | 2677 | 19624 | 4894 |\n",
       "| CA | 3281271 | 496550 | 100486 | 1375197 | 167317 | 41811 | 12761 | 2571 | 18502 | 4643 |\n",
       "| TX | 2644024 |  25415 |  12626 |   27662 |    934 | 42936 | 17662 | 4074 | 19735 |  858 |\n",
       "| TX | 2613792 |  24275 |  12369 |   27435 |    928 | 41980 | 16598 | 3816 | 18648 |  800 |\n",
       "| TX | 2588101 |  24275 |  12369 |   27435 |    928 | 41343 | 16598 | 3816 | 18648 |  800 |\n",
       "| TX | 2571063 |  24275 |  12369 |   27435 |    928 | 40717 | 16598 | 3816 | 18648 |  800 |\n",
       "| TX | 2553127 |  24275 |  12369 |   27435 |    928 | 40378 | 16598 | 3816 | 18648 |  800 |\n",
       "| TX | 2517453 |  23170 |  12018 |   27129 |    922 | 39386 | 15719 | 3629 | 17824 |  735 |\n",
       "| TX | 2483742 |  23170 |  12018 |   27129 |    922 | 38643 | 15719 | 3629 | 17824 |  735 |\n",
       "| TX | 2433110 |  22453 |  11750 |   26927 |    920 | 37288 | 14709 | 3413 | 16964 |  690 |\n",
       "| CA | 3501394 | 546630 | 111279 | 1509103 | 186562 | 54124 | 16586 | 3275 | 24402 | 6105 |\n",
       "| CA | 3484963 | 541927 | 110115 | 1494376 | 184765 | 52775 | 16205 | 3209 | 23768 | 5958 |\n",
       "| TX | 2686818 |  25581 |  12672 |   27728 |    933 | 44451 | 18276 | 4252 | 20453 |  898 |\n",
       "| TX | 2663414 |  25415 |  12626 |   27662 |    934 | 43563 | 17662 | 4074 | 19735 |  858 |\n",
       "\n"
      ],
      "text/plain": [
       "   State Cases_Total Cases_White Cases_Black Cases_Latinx Cases_Asian\n",
       "1  CA    3243348     489390       98959      1355776      164484     \n",
       "2  CA    3169914     475186       96053      1317261      158576     \n",
       "3  CA    3109151     464301       93817      1289848      154423     \n",
       "4  CA    3019371     448577       90545      1245900      148487     \n",
       "5  CA    2942475     436083       87689      1206977      143690     \n",
       "6  CA    2781039     409082       82125      1133397      133241     \n",
       "7  CA    2670962     391396       78392      1078116      126414     \n",
       "8  CA    2482226     360022       72361       990854      114864     \n",
       "9  CA    2391261     319136      191572       887580      100569     \n",
       "10 TX    2360632      22453       11750        26927         920     \n",
       "11 TX    2292732      21947       11474        26718         914     \n",
       "12 TX    2240526      21947       11474        26718         914     \n",
       "13 TX    2166283      21537       11296        26631         913     \n",
       "14 TX    2113962      21537       11296        26631         913     \n",
       "15 TX    2022635      21119       11098        26457         908     \n",
       "16 TX    1954406      21119       11098        26457         908     \n",
       "17 TX    1867163      20892       11024        26363         907     \n",
       "18 TX    1793341      20892         342        26363         907     \n",
       "19 CA    3475562     539466      109591      1487225      183711     \n",
       "20 CA    3455361     534330      108479      1472040      181664     \n",
       "21 CA    3441946     530958      107741      1462751      180258     \n",
       "22 CA    3416147     524753      106400      1446427      177919     \n",
       "23 CA    3399878     521073      105625      1437235      176589     \n",
       "24 CA    3362981     513077      103870      1415893      173673     \n",
       "25 CA    3335926     507681      102703      1402958      171443     \n",
       "26 CA    3281271     496550      100486      1375197      167317     \n",
       "27 TX    2644024      25415       12626        27662         934     \n",
       "28 TX    2613792      24275       12369        27435         928     \n",
       "29 TX    2588101      24275       12369        27435         928     \n",
       "30 TX    2571063      24275       12369        27435         928     \n",
       "31 TX    2553127      24275       12369        27435         928     \n",
       "32 TX    2517453      23170       12018        27129         922     \n",
       "33 TX    2483742      23170       12018        27129         922     \n",
       "34 TX    2433110      22453       11750        26927         920     \n",
       "35 CA    3501394     546630      111279      1509103      186562     \n",
       "36 CA    3484963     541927      110115      1494376      184765     \n",
       "37 TX    2686818      25581       12672        27728         933     \n",
       "38 TX    2663414      25415       12626        27662         934     \n",
       "   Deaths_Total Deaths_White Deaths_Black Deaths_Latinx Deaths_Asian\n",
       "1  40697        12423        2516         17965         4532        \n",
       "2  38224        11664        2391         16822         4256        \n",
       "3  36790        11330        2333         16348         4126        \n",
       "4  34433        10530        2195         15240         3866        \n",
       "5  33392        10256        2147         14886         3790        \n",
       "6  31102         9569        2016         14078         3535        \n",
       "7  29701         9133        1934         13484         3349        \n",
       "8  27462         8441        1833         12583         3109        \n",
       "9  26538         7679        1697         11575         2818        \n",
       "10 36491        14709        3413         16964          690        \n",
       "11 35168        13544        3220         16092          648        \n",
       "12 34322        13544        3220         16092          648        \n",
       "13 32844        12344        3038         15286          595        \n",
       "14 32038        12344        3038         15286          595        \n",
       "15 30624        11226        2861         14500          550        \n",
       "16 29877        11226        2861         14500          550        \n",
       "17 28545        10395        2753         13956          504        \n",
       "18 27917        10395        2753         13956          504        \n",
       "19 51979        16017        3161         23435         5875        \n",
       "20 49877        15249        3004         22371         5590        \n",
       "21 49105        15083        2972         22030         5504        \n",
       "22 47507        14542        2876         21267         5309        \n",
       "23 46843        14348        2857         20989         5241        \n",
       "24 44995        13744        2749         20125         5009        \n",
       "25 43942        13485        2677         19624         4894        \n",
       "26 41811        12761        2571         18502         4643        \n",
       "27 42936        17662        4074         19735          858        \n",
       "28 41980        16598        3816         18648          800        \n",
       "29 41343        16598        3816         18648          800        \n",
       "30 40717        16598        3816         18648          800        \n",
       "31 40378        16598        3816         18648          800        \n",
       "32 39386        15719        3629         17824          735        \n",
       "33 38643        15719        3629         17824          735        \n",
       "34 37288        14709        3413         16964          690        \n",
       "35 54124        16586        3275         24402         6105        \n",
       "36 52775        16205        3209         23768         5958        \n",
       "37 44451        18276        4252         20453          898        \n",
       "38 43563        17662        4074         19735          858        "
      ]
     },
     "metadata": {},
     "output_type": "display_data"
    }
   ],
   "source": [
    "# choose CA and TX to be our interested states\n",
    "# Let this be our sample and visualize it first\n",
    "tidy_cdc <- tidy_cd %>%\n",
    "            filter(State %in% c(\"CA\", \"TX\")) %>%\n",
    "            arrange(month,State) %>%\n",
    "            ungroup() %>%\n",
    "            select(-month, -day)\n",
    "\n",
    "tidy_cdc\n"
   ]
  },
  {
   "cell_type": "code",
   "execution_count": null,
   "id": "307a75c1-ca9e-45e7-8903-eae2a293261c",
   "metadata": {},
   "outputs": [],
   "source": []
  },
  {
   "cell_type": "code",
   "execution_count": null,
   "id": "b2d4231c",
   "metadata": {},
   "outputs": [],
   "source": [
    "# Focus on twos states WA and \n",
    "# tidy_cdc <- Case_Death_Clean %>%\n",
    "#             filter(State == \"WA\") %>%\n",
    "#             summarize(p_white = sum(Cases_White) / sum(Cases_Total),\n",
    "#                      p_black = sum(Cases_Black) / sum(Cases_Total),\n",
    "#                      p_Asian = sum(Cases_Asian) / sum(Cases_Total),\n",
    "#                      p_latin = sum(Cases_Latinx) / sum(Cases_Total),\n",
    "#                      d_white = sum(Deaths_White) / sum(Deaths_Total),\n",
    "#                      d_black = sum(Deaths_Black) / sum(Deaths_Total),\n",
    "#                      d_Asian = sum(Deaths_Asian) / sum(Deaths_Total),\n",
    "#                      d_latin = sum(Deaths_Latinx) / sum(Deaths_Total))\n",
    "\n",
    "# tidy_cdc\n",
    "# Pivoting by deaths? \n",
    "\n",
    "# group by races? \n",
    "\n",
    "\n"
   ]
  },
  {
   "cell_type": "markdown",
   "id": "7baf157f",
   "metadata": {},
   "source": [
    "### 2.3 Plot the relevant raw data, tailoring your plot in a way that addresses your question."
   ]
  },
  {
   "cell_type": "code",
   "execution_count": null,
   "id": "eabcc800",
   "metadata": {},
   "outputs": [],
   "source": [
    "# Plotting raw data"
   ]
  },
  {
   "cell_type": "markdown",
   "id": "48e3ed67",
   "metadata": {},
   "source": [
    "### 2.4 Compute estimates \n",
    "\n",
    "*Compute estimates of the parameter you identified across your groups. Present this in a table. If relevant, include these estimates in your plot.*"
   ]
  },
  {
   "cell_type": "code",
   "execution_count": null,
   "id": "155913d0",
   "metadata": {},
   "outputs": [],
   "source": [
    "# Summary statistics "
   ]
  },
  {
   "cell_type": "markdown",
   "id": "9c6468f8",
   "metadata": {},
   "source": [
    "## 3. Methods: Plan"
   ]
  },
  {
   "cell_type": "markdown",
   "id": "c48cf8e2",
   "metadata": {},
   "source": [
    "### 3.1 What do you expect to find?\n",
    "\n",
    "Text"
   ]
  },
  {
   "cell_type": "markdown",
   "id": "a78566cf",
   "metadata": {},
   "source": [
    "### 3.2 What impact could such findings have?\n",
    "\n",
    "Text"
   ]
  },
  {
   "cell_type": "markdown",
   "id": "31f684df",
   "metadata": {},
   "source": [
    "### 3.3 What future questions could this lead to?\n",
    "\n",
    "Text"
   ]
  },
  {
   "cell_type": "markdown",
   "id": "bbdb4ac2",
   "metadata": {},
   "source": [
    "## 4. Reference\n"
   ]
  },
  {
   "cell_type": "markdown",
   "id": "9745d4b3",
   "metadata": {},
   "source": [
    "About the Racial Data Tracker\n",
    "https://covidtracking.com/race/about"
   ]
  }
 ],
 "metadata": {
  "kernelspec": {
   "display_name": "R",
   "language": "R",
   "name": "ir"
  },
  "language_info": {
   "codemirror_mode": "r",
   "file_extension": ".r",
   "mimetype": "text/x-r-source",
   "name": "R",
   "pygments_lexer": "r",
   "version": "4.1.2"
  }
 },
 "nbformat": 4,
 "nbformat_minor": 5
}
